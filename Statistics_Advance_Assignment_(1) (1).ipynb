{
  "nbformat": 4,
  "nbformat_minor": 0,
  "metadata": {
    "colab": {
      "provenance": []
    },
    "kernelspec": {
      "name": "python3",
      "display_name": "Python 3"
    },
    "language_info": {
      "name": "python"
    }
  },
  "cells": [
    {
      "cell_type": "markdown",
      "source": [
        "#Question 1: What is a random variable in probability theory?\n",
        "Ans : A random variable is a way of turning the outcomes of a random experiment into numbers. It is really just a function or a map that takes each outcome from a sample space and assigns it a number. We normally use capital letters like X to represent a random variable. A random variable is a measurable function from a sample space Ω to the real number line R.\n",
        "\n",
        "* Ω (Omega): The sample space — the set of all possible outcomes in a random experiment.\n",
        "* ℝ: The set of all real numbers — the range of the function.\n",
        "\n",
        "Each outcome\n",
        "ω ∈ Ω is mapped to a real number by the random variable X. This function allows us to represent outcomes numerically, which is essential for statistical analysis.\n",
        "Measurability Condition:\n",
        "For X to be considered a random variable, it must satisfy the following condition:\n",
        "{ω∈Ω:X(ω)≤a}∈F,∀a∈R\n",
        "\n"
      ],
      "metadata": {
        "id": "uwulpwWFQzHQ"
      }
    },
    {
      "cell_type": "markdown",
      "source": [
        "#Question 2: What are the types of random variables?\n",
        "Ans : There are two main types of random variables in probability and statistics, each with distinct characteristics and applications.\n",
        "\n",
        "1. Discrete Random Variables.\n",
        "2. Continuous Random Variables.\n",
        "\n"
      ],
      "metadata": {
        "id": "80beoNttUXP4"
      }
    },
    {
      "cell_type": "markdown",
      "source": [
        "# Question 3: Explain the difference between discrete and continuous distributions.\n",
        "\n",
        "Ans : In probability and statistics, discrete and continuous distributions are two fundamental types of probability distributions that describe how values of a random variable are distributed.\n",
        "\n",
        "**Discrete Distribution**\n",
        "\n",
        "A discrete distribution applies to scenarios where the random variable can take on a finite or countable set of distinct values. Each outcome has a specific probability, and the sum of all probabilities equals 1. The probabilities are represented using a Probability Mass Function (PMF).\n",
        "\n",
        "**Examples:**\n",
        "\n",
        "1. Rolling a fair die (outcomes: 1, 2, 3, 4, 5, 6).\n",
        "\n",
        "2. Flipping a coin (outcomes: heads or tails).\n",
        "\n",
        "**Key Properties:**\n",
        "\n",
        "Finite Outcomes: The set of possible outcomes is limited and countable.\n",
        "\n",
        "Equal Probability: In uniform discrete distributions, all outcomes have the same probability.\n",
        "\n",
        "PMF Formula: ( P(X = x) = \\frac{1}{n} ), where ( n ) is the total number of outcomes.\n",
        "\n",
        "**Continuous Distribution**\n",
        "\n",
        "A continuous distribution applies to scenarios where the random variable can take on any value within a continuous range. Probabilities are described using a Probability Density Function (PDF), and the total area under the curve of the PDF equals 1.\n",
        "\n",
        "**Examples:**\n",
        "\n",
        "1. Random time of day.\n",
        "\n",
        "2. Measuring the height of individuals.\n",
        "\n",
        "**Key Properties:**\n",
        "\n",
        "Infinite Outcomes: The range of possible values is uncountable and continuous.\n",
        "\n",
        "Equal Density: In uniform continuous distributions, the density is constant across the interval.\n",
        "\n",
        "PDF Formula: ( f(x) = \\frac{1}{b-a} ) for ( a \\leq x \\leq b ), where ( a ) and ( b ) are the lower and upper bounds"
      ],
      "metadata": {
        "id": "qMdqdvFjV55r"
      }
    },
    {
      "cell_type": "markdown",
      "source": [
        "#Question 4: What is a binomial distribution, and how is it used in probability?\n",
        "\n",
        "Ans : The binomial distribution is a discrete probability distribution that models the number of successes in a fixed number of independent trials, where each trial has only two possible outcomes: success or failure. It is widely used in probability theory, statistics, and real-world applications like quality control, survey analysis, and financial modeling.\n",
        "\n",
        "Binomial Distribution is based on Bernoulli trials, where each trial has an independent and identical chance of success. The probability distribution for a Bernoulli trial is called the Bernoulli Distribution\n",
        "\n",
        "**Conditions for Binomial Distribution**\n",
        "The Binomial distribution can be used in scenarios where the following conditions are satisfied:\n",
        "\n",
        "1. Fixed Number of Trials: There is a set number of trials or experiments (denoted by n), such as flipping a coin 10 times.\n",
        "2. Two Possible Outcomes: Each trial has only two possible outcomes, often labeled as \"success\" and \"failure.\" For example, getting heads or tails in a coin flip.\n",
        "3. Independent Trials: The outcome of each trial is independent of the others, meaning the result of one trial does not affect the result of another.\n",
        "4. Constant Probability: The probability of success (denoted by p) remains the same for each trial. For example, if you’re flipping a fair coin, the probability of getting heads is always 0.5."
      ],
      "metadata": {
        "id": "IeZ41X4La1Dv"
      }
    },
    {
      "cell_type": "markdown",
      "source": [
        "#Question 5: What is the standard normal distribution, and why is it important?\n",
        "\n",
        "Ans : The standard normal distribution is a specific type of normal distribution that has:\n",
        "\n",
        "Mean (μ) = 0\n",
        "\n",
        "Standard deviation (σ) = 1\n",
        "\n",
        "It’s a bell-shaped curve that is symmetric around the mean, representing how data values are distributed. This curve describes the likelihood of different outcomes for a normally distributed variable that has been standardized.\n",
        "\n",
        "**The standard normal distribution is crucial for several reasons:**\n",
        "\n",
        "1. Simplifies Calculations: By converting any normal distribution to the standard form using a z-score:\n",
        "\n",
        "2. Universal Reference: It serves as a benchmark for comparing different datasets, regardless of their original scales.\n",
        "\n",
        "3. Foundation for Statistical Inference:\n",
        "\n",
        "    Used in hypothesis testing and confidence intervals\n",
        "\n",
        "    Helps determine critical values and p-values  \n",
        "\n",
        "4. Central Limit Theorem (CLT): According to the CLT, the sampling distribution of the sample mean approaches a normal distribution (often standard normal) as sample size increases, even if the original data isn’t normally distributed.\n",
        "\n",
        "5. Widely Applicable: Appears in natural phenomena, social sciences, economics, and machine learning models."
      ],
      "metadata": {
        "id": "OIC8549cdzb1"
      }
    },
    {
      "cell_type": "markdown",
      "source": [
        "#Question 6: What is the Central Limit Theorem (CLT), and why is it critical in statistics?\n",
        "\n",
        "Ans: The Central Limit Theorem states that:\n",
        "\n",
        "When you take a large number of random samples from any population (regardless of its original distribution), the distribution of the sample means will approximate a normal distribution.\n",
        "\n",
        "This holds true even if the original population is not normally distributed, as long as:\n",
        "\n",
        "1. The sample size is sufficiently large (typically n ≥ 30 is considered adequate)\n",
        "2. The samples are independent and identically distributed (i.i.d.)\n",
        "\n",
        "if you have a population with mean\n",
        "𝜇 and standard deviation 𝜎, then the sampling distribution of the sample mean 𝑥 will:\n",
        "\n",
        "\n",
        "    *  Have a mean 𝜇𝑥=𝜇\n",
        "    *  Have a standard deviation  \n",
        "    *  Approach a normal distribution as 𝑛→∞\n",
        "\n",
        "The CLT is essential because it enables statistical inference—making conclusions about populations based on samples. Here's why it matters:\n",
        "\n",
        "1. Justifies Using Normal Models: Even if data isn’t normally distributed, we can still use normal distribution techniques for sample means.\n",
        "\n",
        "2. Foundation for Confidence Intervals: It allows us to estimate population parameters (like the mean) with a known level of confidence.\n",
        "\n",
        "3. Enables Hypothesis Testing: Many statistical tests (e.g., t-tests, z-tests) rely on the assumption that the sampling distribution of the mean is normal.\n",
        "\n",
        "4. Supports Predictive Modeling: In machine learning and econometrics, CLT underpins assumptions about error distributions and model behavior.\n",
        "\n",
        "\n",
        "\n"
      ],
      "metadata": {
        "id": "q9qX3KnVgsM8"
      }
    },
    {
      "cell_type": "markdown",
      "source": [
        "#Question 7: What is the significance of confidence intervals in statistical analysis?\n",
        "\n",
        "Ans : A confidence interval (CI) provides a range of values within which the true population parameter is expected to lie, based on sample data. Whether a confidence interval indicates statistical significance depends on whether it includes a specific value of interest, often 0 in the context of hypothesis testing.If a confidence interval for a difference (e.g., between two means or proportions) includes 0, it suggests that the difference is not statistically significant at the chosen confidence level (e.g., 95%). This is because 0 represents no difference, and its inclusion implies that the observed difference could plausibly be due to random variation rather than a true effect.\n",
        "\n",
        " 1. **Relationship to P-Values**\n",
        "\n",
        " Confidence intervals and p-values are closely related. If a 95% confidence interval excludes 0, the corresponding p-value will be less than 0.05, indicating statistical significance. Conversely, if the interval includes 0, the p-value will exceed 0.05, suggesting non-significance.\n",
        "\n",
        " 2. **Misinterpretations to Avoid**\n",
        "\n",
        " A common misconception is that a confidence interval containing 0 means there is no effect. Instead, it means the data are inconclusive about the effect's direction or magnitude. Similarly, a significant confidence interval does not guarantee practical importance; it only indicates statistical evidence.\n"
      ],
      "metadata": {
        "id": "k2t1rsuDkbNP"
      }
    },
    {
      "cell_type": "markdown",
      "source": [],
      "metadata": {
        "id": "IlMw5-qAloVC"
      }
    },
    {
      "cell_type": "markdown",
      "source": [
        "#Question 8: What is the concept of expected value in a probability distribution?\n",
        "\n",
        "Ans : The expected value (EV) of a probability distribution is essentially its weighted average — the long-run average outcome you would expect if you repeated the random process many times.\n",
        "\n",
        "Core idea\n",
        "Instead of just taking a simple average of outcomes, you weight each possible outcome by how likely it is to occur.\n",
        "\n",
        "Mathematically:\n",
        "\n",
        "For a discrete probability distribution:\n",
        "\n",
        "𝐸\n",
        "[\n",
        "𝑋\n",
        "]\n",
        "=\n",
        "∑\n",
        "𝑖\n",
        "𝑥\n",
        "𝑖\n",
        "⋅\n",
        "𝑃\n",
        "(\n",
        "𝑥\n",
        "𝑖\n",
        ")\n",
        "E[X]=\n",
        "i\n",
        "∑\n",
        "​\n",
        " x\n",
        "i\n",
        "​\n",
        " ⋅P(x\n",
        "i\n",
        "​\n",
        " )\n",
        "Where:\n",
        "\n",
        "𝑥\n",
        "𝑖\n",
        "x\n",
        "i\n",
        "​\n",
        "  = possible outcome\n",
        "\n",
        "𝑃\n",
        "(\n",
        "𝑥\n",
        "𝑖\n",
        ")\n",
        "P(x\n",
        "i\n",
        "​\n",
        " ) = probability of that outcome\n",
        "\n",
        "For a continuous probability distribution:\n",
        "\n",
        "𝐸\n",
        "[\n",
        "𝑋\n",
        "]\n",
        "=\n",
        "∫\n",
        "−\n",
        "∞\n",
        "∞\n",
        "𝑥\n",
        "⋅\n",
        "𝑓\n",
        "(\n",
        "𝑥\n",
        ")\n",
        "\n",
        "𝑑\n",
        "𝑥\n",
        "E[X]=∫\n",
        "−∞\n",
        "∞\n",
        "​\n",
        " x⋅f(x)dx\n",
        "Where\n",
        "𝑓\n",
        "(\n",
        "𝑥\n",
        ")\n",
        "f(x) is the probability density function."
      ],
      "metadata": {
        "id": "Sye8Ntc2vQ7G"
      }
    },
    {
      "cell_type": "markdown",
      "source": [
        "#Question 9: Write a Python program to generate 1000 random numbers from a normal distribution with mean = 50 and standard deviation = 5. Compute its mean and standard deviation using NumPy, and draw a histogram to visualize the distribution.\n",
        "\n",
        "Ans:\n",
        ""
      ],
      "metadata": {
        "id": "SKhKHK1DlrjT"
      }
    },
    {
      "cell_type": "code",
      "source": [
        "import numpy as np\n",
        "import matplotlib.pyplot as plt\n",
        "\n",
        "# Step 1: Generate 1000 random numbers from a normal distribution\n",
        "mean = 50\n",
        "std_dev = 5\n",
        "data = np.random.normal(mean, std_dev, 1000)\n",
        "\n",
        "# Step 2: Compute mean and standard deviation\n",
        "calculated_mean = np.mean(data)\n",
        "calculated_std = np.std(data)\n",
        "\n",
        "print(f\"Calculated Mean: {calculated_mean:.2f}\")\n",
        "print(f\"Calculated Standard Deviation: {calculated_std:.2f}\")\n",
        "\n",
        "# Step 3: Plot histogram\n",
        "plt.hist(data, bins=30, edgecolor='black', alpha=0.7)\n",
        "plt.title(\"Normal Distribution Histogram\")\n",
        "plt.xlabel(\"Value\")\n",
        "plt.ylabel(\"Frequency\")\n",
        "plt.axvline(calculated_mean, color='red', linestyle='dashed', linewidth=2, label=f\"Mean = {calculated_mean:.2f}\")\n",
        "plt.legend()\n",
        "plt.show()\n"
      ],
      "metadata": {
        "colab": {
          "base_uri": "https://localhost:8080/",
          "height": 508
        },
        "id": "ksXVyUQ6l5sg",
        "outputId": "7a53d82b-3745-4c39-ad7f-2e4e9d06d4e4"
      },
      "execution_count": 1,
      "outputs": [
        {
          "output_type": "stream",
          "name": "stdout",
          "text": [
            "Calculated Mean: 49.82\n",
            "Calculated Standard Deviation: 5.01\n"
          ]
        },
        {
          "output_type": "display_data",
          "data": {
            "text/plain": [
              "<Figure size 640x480 with 1 Axes>"
            ],
            "image/png": "[encoded data removed]"
          },
          "metadata": {}
        }
      ]
    },
    {
      "cell_type": "markdown",
      "source": [
        "#Question 10: You are working as a data analyst for a retail company. The company has collected daily sales data for 2 years and wants you to identify the overall sales trend. daily_sales = [220, 245, 210, 265, 230, 250, 260, 275, 240, 255, 235, 260, 245, 250, 225, 270, 265, 255, 250, 260] ● Explain how you would apply the Central Limit Theorem to estimate the average sales with a 95% confidence interval. ● Write the Python code to compute the mean sales and its confidence interval.\n",
        "\n",
        "Ans: 1. Concept: How CLT applies\n",
        "The Central Limit Theorem says that if you take repeated random samples from a population and compute their means, those means will tend to follow a normal distribution — even if the original data isn’t perfectly normal — provided the sample size is reasonably large.\n",
        "\n",
        "Here’s how it fits your problem:\n",
        "\n",
        "You have 20 days of sales data (which is a small sample from the entire 2 years).\n",
        "\n",
        "CLT lets us approximate the sampling distribution of the mean as normal.\n",
        "\n",
        "Once we assume a normal distribution, we can calculate a confidence interval (CI) for the mean sales.\n",
        "\n",
        "2. 95% Confidence Interval Formula\n",
        "For small samples (n < 30) and unknown population standard deviation, use the t-distribution:\n",
        "\n",
        "CI\n",
        "=\n",
        "𝑥\n",
        "ˉ\n",
        "±\n",
        "𝑡\n",
        "𝛼\n",
        "/\n",
        "2\n",
        ",\n",
        "𝑑\n",
        "𝑓\n",
        "⋅\n",
        "𝑠\n",
        "𝑛\n",
        "CI=\n",
        "x\n",
        "ˉ\n",
        " ±t\n",
        "α/2,df\n",
        "​\n",
        " ⋅\n",
        "n\n",
        "​\n",
        "\n",
        "s\n",
        "​\n",
        "\n",
        "Where:\n",
        "\n",
        "𝑥\n",
        "ˉ\n",
        "x\n",
        "ˉ\n",
        "  = sample mean\n",
        "\n",
        "𝑠\n",
        "s = sample standard deviation\n",
        "\n",
        "𝑛\n",
        "n = sample size\n",
        "\n",
        "𝑡\n",
        "𝛼\n",
        "/\n",
        "2\n",
        ",\n",
        "𝑑\n",
        "𝑓\n",
        "t\n",
        "α/2,df\n",
        "​\n",
        "  = critical t-value for 95% CI and\n",
        "𝑑\n",
        "𝑓\n",
        "=\n",
        "𝑛\n",
        "−\n",
        "1\n",
        "df=n−1"
      ],
      "metadata": {
        "id": "6Ii5vE-LmAJy"
      }
    },
    {
      "cell_type": "code",
      "source": [
        "import numpy as np\n",
        "import scipy.stats as stats\n",
        "\n",
        "# Given daily sales data\n",
        "daily_sales = [220, 245, 210, 265, 230, 250, 260, 275, 240, 255,\n",
        "               235, 260, 245, 250, 225, 270, 265, 255, 250, 260]\n",
        "\n",
        "# Step 1: Basic statistics\n",
        "mean_sales = np.mean(daily_sales)\n",
        "std_dev_sales = np.std(daily_sales, ddof=1)  # sample std dev (ddof=1)\n",
        "n = len(daily_sales)\n",
        "\n",
        "# Step 2: t-critical value for 95% CI\n",
        "confidence = 0.95\n",
        "alpha = 1 - confidence\n",
        "t_critical = stats.t.ppf(1 - alpha/2, df=n-1)\n",
        "\n",
        "# Step 3: Margin of error\n",
        "margin_error = t_critical * (std_dev_sales / np.sqrt(n))\n",
        "\n",
        "# Step 4: Confidence interval\n",
        "lower_bound = mean_sales - margin_error\n",
        "upper_bound = mean_sales + margin_error\n",
        "\n",
        "print(f\"Sample Mean Sales: {mean_sales:.2f}\")\n",
        "print(f\"95% Confidence Interval: ({lower_bound:.2f}, {upper_bound:.2f})\")\n"
      ],
      "metadata": {
        "colab": {
          "base_uri": "https://localhost:8080/"
        },
        "id": "TdY9nwqCmKVD",
        "outputId": "af1909c3-5718-4446-8fbb-7264830ff8d3"
      },
      "execution_count": 2,
      "outputs": [
        {
          "output_type": "stream",
          "name": "stdout",
          "text": [
            "Sample Mean Sales: 248.25\n",
            "95% Confidence Interval: (240.17, 256.33)\n"
          ]
        }
      ]
    }
  ]
}