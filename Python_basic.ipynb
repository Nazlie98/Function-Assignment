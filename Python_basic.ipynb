{
  "nbformat": 4,
  "nbformat_minor": 0,
  "metadata": {
    "colab": {
      "provenance": []
    },
    "kernelspec": {
      "name": "python3",
      "display_name": "Python 3"
    },
    "language_info": {
      "name": "python"
    }
  },
  "cells": [
    {
      "cell_type": "markdown",
      "source": [
        "#1. What is Python, and why is it popular?\n",
        "Python is a high-level, interpreted programming language known for its readability, simplicity, and large standard library.\n",
        "It’s popular because:\n",
        "\n",
        "Easy to learn and use\n",
        "\n",
        "Versatile (web, data science, automation, AI, etc.)\n",
        "\n",
        "Huge community and third-party library support"
      ],
      "metadata": {
        "id": "AAhssAaung9W"
      }
    },
    {
      "cell_type": "markdown",
      "source": [
        "#2. What is an interpreter in Python?\n",
        "An interpreter executes Python code line-by-line, translating it into machine-readable instructions at runtime."
      ],
      "metadata": {
        "id": "K7bMbeKsnewp"
      }
    },
    {
      "cell_type": "markdown",
      "source": [
        "#3. What are pre-defined keywords in Python?\n",
        "Pre-defined keywords are reserved words with special meaning (e.g., if, for, while). They cannot be used as identifiers."
      ],
      "metadata": {
        "id": "VQdUO0gtnmVW"
      }
    },
    {
      "cell_type": "markdown",
      "source": [
        "#4. Can keywords be used as variable names?\n",
        "No — Python will throw a SyntaxError if you try to use them as variable names."
      ],
      "metadata": {
        "id": "h71yaJNRnpYC"
      }
    },
    {
      "cell_type": "markdown",
      "source": [
        "#4. Can keywords be used as variable names?\n",
        "No — Python will throw a SyntaxError if you try to use them as variable names."
      ],
      "metadata": {
        "id": "W7ZlO6CEnrhQ"
      }
    },
    {
      "cell_type": "markdown",
      "source": [
        "#6. Why are lists mutable, but tuples are immutable?\n",
        "Lists store references that can be changed in memory, while tuples are fixed after creation for safety and performance."
      ],
      "metadata": {
        "id": "uPL64ML6nttl"
      }
    },
    {
      "cell_type": "markdown",
      "source": [
        "#7. Difference between == and is operators\n",
        "== → Checks value equality\n",
        "\n",
        "is → Checks object identity (whether they refer to the same object in memory)"
      ],
      "metadata": {
        "id": "1VOFtjV4nx9i"
      }
    },
    {
      "cell_type": "markdown",
      "source": [
        "#8. What are logical operators in Python?\n",
        "and → True if both are True\n",
        "\n",
        "or → True if at least one is True\n",
        "\n",
        "not → Negates the boolean value\n",
        "\n"
      ],
      "metadata": {
        "id": "wnXSI1Pxn0cm"
      }
    },
    {
      "cell_type": "markdown",
      "source": [
        "#9. What is type casting in Python?\n",
        "Converting one data type to another (e.g., int to float)."
      ],
      "metadata": {
        "id": "_Wzf5N80n2Xy"
      }
    },
    {
      "cell_type": "markdown",
      "source": [
        "#10. Difference between implicit and explicit type casting\n",
        "Implicit → Automatic conversion by Python (e.g., int + float → float)\n",
        "\n",
        "Explicit → Manual conversion using functions (int(), float(), etc.)"
      ],
      "metadata": {
        "id": "WXwROHtmn55D"
      }
    },
    {
      "cell_type": "markdown",
      "source": [
        "#11. Purpose of conditional statements\n",
        "To execute code only when certain conditions are met."
      ],
      "metadata": {
        "id": "-yznXUq0n74Z"
      }
    },
    {
      "cell_type": "markdown",
      "source": [
        "#12. How does the elif statement work?\n",
        "It allows checking multiple conditions, executing the first block whose condition is True."
      ],
      "metadata": {
        "id": "xaJgeTiEn9w-"
      }
    },
    {
      "cell_type": "markdown",
      "source": [
        "#13. Difference between for and while loops\n",
        "for → Iterates over sequences with known length or range\n",
        "\n",
        "while → Runs until a condition becomes False"
      ],
      "metadata": {
        "id": "4bcO5RKxn_tt"
      }
    },
    {
      "cell_type": "markdown",
      "source": [
        "#14. Describe a Scenario where while loop is more suitable\n",
        "When the number of iterations is unknown — e.g., reading user input until \"quit\" is entered."
      ],
      "metadata": {
        "id": "CzEhpPvXoBn1"
      }
    },
    {
      "cell_type": "markdown",
      "source": [
        "#Part B: Practical Questions (Python Code)"
      ],
      "metadata": {
        "id": "kMQEXORZoDwS"
      }
    },
    {
      "cell_type": "markdown",
      "source": [
        "#1. Write a Python program to print \"Hello, World!"
      ],
      "metadata": {
        "id": "BSEFQQr2oJZV"
      }
    },
    {
      "cell_type": "code",
      "source": [
        "print(\"Hello, World!\")"
      ],
      "metadata": {
        "colab": {
          "base_uri": "https://localhost:8080/"
        },
        "id": "W32yq23qoknJ",
        "outputId": "d01484b2-3d83-4dd5-c979-db13f72c193a"
      },
      "execution_count": 1,
      "outputs": [
        {
          "output_type": "stream",
          "name": "stdout",
          "text": [
            "Hello, World!\n"
          ]
        }
      ]
    },
    {
      "cell_type": "markdown",
      "source": [
        "#2.Write a Python program that displays your name and age"
      ],
      "metadata": {
        "id": "9l8cqzehomoK"
      }
    },
    {
      "cell_type": "code",
      "source": [
        "name = \"Mobashareen\"\n",
        "age = 25\n",
        "print(f\"My name is {name} and I am {age} years old.\")"
      ],
      "metadata": {
        "colab": {
          "base_uri": "https://localhost:8080/"
        },
        "id": "TU-mcp6Poq2I",
        "outputId": "3297e52b-f7f5-4956-9aab-601786c00389"
      },
      "execution_count": 2,
      "outputs": [
        {
          "output_type": "stream",
          "name": "stdout",
          "text": [
            "My name is Mobashareen and I am 25 years old.\n"
          ]
        }
      ]
    },
    {
      "cell_type": "markdown",
      "source": [
        "#3.Write code to print all the pre-defined keywords in Python using the keyword library"
      ],
      "metadata": {
        "id": "Ej3u6rsmowYK"
      }
    },
    {
      "cell_type": "code",
      "source": [
        "import keyword\n",
        "print(keyword.kwlist)"
      ],
      "metadata": {
        "colab": {
          "base_uri": "https://localhost:8080/"
        },
        "id": "07NIX4ddozgy",
        "outputId": "50e11ef6-d74c-4696-de1a-9870979bd94a"
      },
      "execution_count": 3,
      "outputs": [
        {
          "output_type": "stream",
          "name": "stdout",
          "text": [
            "['False', 'None', 'True', 'and', 'as', 'assert', 'async', 'await', 'break', 'class', 'continue', 'def', 'del', 'elif', 'else', 'except', 'finally', 'for', 'from', 'global', 'if', 'import', 'in', 'is', 'lambda', 'nonlocal', 'not', 'or', 'pass', 'raise', 'return', 'try', 'while', 'with', 'yield']\n"
          ]
        }
      ]
    },
    {
      "cell_type": "markdown",
      "source": [
        "#4.Write a program that checks if a given word is a Python keyword."
      ],
      "metadata": {
        "id": "J5BSWLQ6o20w"
      }
    },
    {
      "cell_type": "code",
      "source": [
        "word = \"for\"\n",
        "print(f\"{word} is keyword: {keyword.iskeyword(word)}\")"
      ],
      "metadata": {
        "colab": {
          "base_uri": "https://localhost:8080/"
        },
        "id": "Q_wpxZhho5fk",
        "outputId": "629818a5-05f4-471e-a0a4-723947343bef"
      },
      "execution_count": 4,
      "outputs": [
        {
          "output_type": "stream",
          "name": "stdout",
          "text": [
            "for is keyword: True\n"
          ]
        }
      ]
    },
    {
      "cell_type": "markdown",
      "source": [
        "#5. Create a list and tuple in Python, and demonstrate how attempting to change an element works differently for each."
      ],
      "metadata": {
        "id": "ueQQ-a1yo7ZO"
      }
    },
    {
      "cell_type": "code",
      "source": [
        "my_list = [1, 2, 3]\n",
        "my_tuple = (1, 2, 3)\n",
        "my_list[0] = 100"
      ],
      "metadata": {
        "id": "r3UbtH8vo_uQ"
      },
      "execution_count": 6,
      "outputs": []
    },
    {
      "cell_type": "markdown",
      "source": [
        "#6.Write a function to demonstrate the behavior of mutable and immutable arguments."
      ],
      "metadata": {
        "id": "6M25nOKQpGBa"
      }
    },
    {
      "cell_type": "code",
      "source": [
        "def change_values(num, lst):\n",
        "    num += 10\n",
        "    lst.append(100)\n",
        "    return num, lst\n",
        "print(change_values(5, [1, 2]))"
      ],
      "metadata": {
        "colab": {
          "base_uri": "https://localhost:8080/"
        },
        "id": "4ltQ5Yg3pHiw",
        "outputId": "714fe678-d9ba-414b-8349-833078eeea1a"
      },
      "execution_count": 7,
      "outputs": [
        {
          "output_type": "stream",
          "name": "stdout",
          "text": [
            "(15, [1, 2, 100])\n"
          ]
        }
      ]
    },
    {
      "cell_type": "markdown",
      "source": [
        "#7. Write a program that performs basic arithmetic operations on two user-input numbers."
      ],
      "metadata": {
        "id": "YMu4BnxxpJqO"
      }
    },
    {
      "cell_type": "code",
      "source": [
        "a, b = 10, 5\n",
        "print(\"Sum:\", a + b)\n",
        "print(\"Diff:\", a - b)\n",
        "print(\"Product:\", a * b)\n",
        "print(\"Quotient:\", a / b)"
      ],
      "metadata": {
        "colab": {
          "base_uri": "https://localhost:8080/"
        },
        "id": "JqFOKWW-pMDo",
        "outputId": "637d581d-a116-4852-c0df-a5ea7e554d60"
      },
      "execution_count": 8,
      "outputs": [
        {
          "output_type": "stream",
          "name": "stdout",
          "text": [
            "Sum: 15\n",
            "Diff: 5\n",
            "Product: 50\n",
            "Quotient: 2.0\n"
          ]
        }
      ]
    },
    {
      "cell_type": "markdown",
      "source": [
        "#8.Write a program to demonstrate the use of logical operators."
      ],
      "metadata": {
        "id": "LcczHDkKpOKw"
      }
    },
    {
      "cell_type": "code",
      "source": [
        "x, y = True, False\n",
        "print(x and y, x or y, not x)"
      ],
      "metadata": {
        "colab": {
          "base_uri": "https://localhost:8080/"
        },
        "id": "ZZ-zFPvPpSyl",
        "outputId": "95c76a85-6f8f-4d26-f3fe-3570c7f504ad"
      },
      "execution_count": 9,
      "outputs": [
        {
          "output_type": "stream",
          "name": "stdout",
          "text": [
            "False True False\n"
          ]
        }
      ]
    },
    {
      "cell_type": "markdown",
      "source": [
        "#9.Write a Python program to convert user input from string to integer, float, and boolean types."
      ],
      "metadata": {
        "id": "TcjUcWqNpUxI"
      }
    },
    {
      "cell_type": "code",
      "source": [
        "user_input = \"123\"\n",
        "print(int(user_input), float(user_input), bool(int(user_input)))"
      ],
      "metadata": {
        "colab": {
          "base_uri": "https://localhost:8080/"
        },
        "id": "7-hWF7U-pYIh",
        "outputId": "a6f00c20-d2cc-48a6-d73e-a56fe78edd69"
      },
      "execution_count": 10,
      "outputs": [
        {
          "output_type": "stream",
          "name": "stdout",
          "text": [
            "123 123.0 True\n"
          ]
        }
      ]
    },
    {
      "cell_type": "markdown",
      "source": [
        "#10.Write code to demonstrate type casting with list elements"
      ],
      "metadata": {
        "id": "KIv2bgqIpZ_A"
      }
    },
    {
      "cell_type": "code",
      "source": [
        "lst = [\"1\", \"2\", \"3\"]\n",
        "lst = list(map(int, lst))\n",
        "print(lst)"
      ],
      "metadata": {
        "colab": {
          "base_uri": "https://localhost:8080/"
        },
        "id": "EXb4Wgugpe14",
        "outputId": "b0281d85-5fb5-4ef7-dbf2-7cdb1da77526"
      },
      "execution_count": 11,
      "outputs": [
        {
          "output_type": "stream",
          "name": "stdout",
          "text": [
            "[1, 2, 3]\n"
          ]
        }
      ]
    },
    {
      "cell_type": "markdown",
      "source": [
        "#11.Write a program that checks if a number is positive, negative, or zero."
      ],
      "metadata": {
        "id": "APfE8YdQphjP"
      }
    },
    {
      "cell_type": "code",
      "source": [
        "num = -5\n",
        "if num > 0:\n",
        "    print(\"Positive\")\n",
        "elif num < 0:\n",
        "    print(\"Negative\")\n",
        "else:\n",
        "    print(\"Zero\")"
      ],
      "metadata": {
        "colab": {
          "base_uri": "https://localhost:8080/"
        },
        "id": "u0vtjpaSpkMH",
        "outputId": "7d27c7ff-f7af-48fd-8bfc-76dd84235b2d"
      },
      "execution_count": 12,
      "outputs": [
        {
          "output_type": "stream",
          "name": "stdout",
          "text": [
            "Negative\n"
          ]
        }
      ]
    },
    {
      "cell_type": "markdown",
      "source": [
        "#12.Write a for loop to print numbers from 1 to 10."
      ],
      "metadata": {
        "id": "js5B_67-pm8s"
      }
    },
    {
      "cell_type": "code",
      "source": [
        "for i in range(1, 11):\n",
        "    print(i, end=\" \")"
      ],
      "metadata": {
        "colab": {
          "base_uri": "https://localhost:8080/"
        },
        "id": "6Dh0o0ZopmMA",
        "outputId": "a3e46ceb-387e-4b24-9cb4-9b1965854d30"
      },
      "execution_count": 13,
      "outputs": [
        {
          "output_type": "stream",
          "name": "stdout",
          "text": [
            "1 2 3 4 5 6 7 8 9 10 "
          ]
        }
      ]
    },
    {
      "cell_type": "markdown",
      "source": [
        "#13.Write a Python program to find the sum of all even numbers between 1 and 50."
      ],
      "metadata": {
        "id": "SPdrY4LMpryE"
      }
    },
    {
      "cell_type": "code",
      "source": [
        "even_sum = sum(i for i in range(1, 51) if i % 2 == 0)\n",
        "print(\"\\nEven sum:\", even_sum)"
      ],
      "metadata": {
        "colab": {
          "base_uri": "https://localhost:8080/"
        },
        "id": "FN684j9zpt5s",
        "outputId": "4504e353-c829-45b9-85f7-6347160052d5"
      },
      "execution_count": 14,
      "outputs": [
        {
          "output_type": "stream",
          "name": "stdout",
          "text": [
            "\n",
            "Even sum: 650\n"
          ]
        }
      ]
    },
    {
      "cell_type": "markdown",
      "source": [
        "#14.Write a program to reverse a string using a while loop."
      ],
      "metadata": {
        "id": "0BRiQ3rspxcz"
      }
    },
    {
      "cell_type": "code",
      "source": [
        "s = \"Python\"\n",
        "rev = \"\"\n",
        "i = len(s) - 1\n",
        "while i >= 0:\n",
        "    rev += s[i]\n",
        "    i -= 1\n",
        "print(rev)"
      ],
      "metadata": {
        "colab": {
          "base_uri": "https://localhost:8080/"
        },
        "id": "4iLf50ALpz6q",
        "outputId": "1ea0d037-ce7b-4da3-c5b2-e48ad0ad04f0"
      },
      "execution_count": 16,
      "outputs": [
        {
          "output_type": "stream",
          "name": "stdout",
          "text": [
            "nohtyP\n"
          ]
        }
      ]
    },
    {
      "cell_type": "markdown",
      "source": [
        "#15.Write a Python program to calculate the factorial of a number provided by the user using a while loop."
      ],
      "metadata": {
        "id": "oSfx3Bu8qAFx"
      }
    },
    {
      "cell_type": "code",
      "source": [
        "n = 5\n",
        "fact = 1\n",
        "while n > 0:\n",
        "    fact *= n\n",
        "    n -= 1\n",
        "print(\"Factorial:\", fact)"
      ],
      "metadata": {
        "colab": {
          "base_uri": "https://localhost:8080/"
        },
        "id": "Qr8GsLwkqBHI",
        "outputId": "57f15396-0fa4-45db-e779-c230fc4882c1"
      },
      "execution_count": 17,
      "outputs": [
        {
          "output_type": "stream",
          "name": "stdout",
          "text": [
            "Factorial: 120\n"
          ]
        }
      ]
    }
  ]
}