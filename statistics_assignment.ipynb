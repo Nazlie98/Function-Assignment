{
 "cells": [
  {
   "cell_type": "markdown",
   "id": "f2ebad14",
   "metadata": {},
   "source": [
    "Question 1: What is hypothesis testing in statistics?"
   ]
  },
  {
   "cell_type": "markdown",
   "id": "7da9e1e1",
   "metadata": {},
   "source": [
    "Hypothesis testing is a statistical method used to make decisions or draw conclusions about a population based on sample data. It involves formulating a null hypothesis (H0) and an alternative hypothesis (H1), then using statistical tests to determine whether there is enough evidence to reject H0 in favor of H1."
   ]
  },
  {
   "cell_type": "markdown",
   "id": "adcbf7bd",
   "metadata": {},
   "source": [
    "Question 2: What is the null hypothesis, and how does it differ from the alternative hypothesis?"
   ]
  },
  {
   "cell_type": "markdown",
   "id": "1b0cb924",
   "metadata": {},
   "source": [
    "The null hypothesis (H0) is a statement that there is no effect, difference, or relationship in the population, and any observed effect is due to random chance. The alternative hypothesis (H1) states that there is a true effect, difference, or relationship. In hypothesis testing, we attempt to reject H0 in favor of H1 based on statistical evidence."
   ]
  },
  {
   "cell_type": "markdown",
   "id": "7c47626c",
   "metadata": {},
   "source": [
    "Question 3: Explain the significance level in hypothesis testing and its role in deciding the outcome of a test."
   ]
  },
  {
   "cell_type": "markdown",
   "id": "4c4d69b7",
   "metadata": {},
   "source": [
    "The significance level (alpha, α) is the probability threshold used to decide whether to reject the null hypothesis. Commonly set at 0.05, it represents a 5% risk of making a Type I error (rejecting H0 when it is true). If the p-value is less than α, we reject H0; otherwise, we fail to reject it."
   ]
  },
  {
   "cell_type": "markdown",
   "id": "3439d7e5",
   "metadata": {},
   "source": [
    "Question 4: What are Type I and Type II errors? Give examples of each."
   ]
  },
  {
   "cell_type": "markdown",
   "id": "9ee9bb13",
   "metadata": {},
   "source": [
    "A Type I error occurs when we reject a true null hypothesis (false positive). Example: Concluding a medicine works when it does not. A Type II error occurs when we fail to reject a false null hypothesis (false negative). Example: Concluding a medicine does not work when it actually does."
   ]
  },
  {
   "cell_type": "markdown",
   "id": "ecb8ad85",
   "metadata": {},
   "source": [
    "Question 5: What is the difference between a Z-test and a T-test? Explain when to use each."
   ]
  },
  {
   "cell_type": "markdown",
   "id": "0e2f5e30",
   "metadata": {},
   "source": [
    "A Z-test is used when the population standard deviation is known and the sample size is large (n > 30). A T-test is used when the population standard deviation is unknown and the sample size is small (n ≤ 30). Both tests assess whether sample means differ significantly from the population mean or each other."
   ]
  },
  {
   "cell_type": "markdown",
   "id": "5b72f7a2",
   "metadata": {},
   "source": [
    "Question 6: Write a Python program to generate a binomial distribution with n=10 and p=0.5, then plot its histogram."
   ]
  },
  {
   "cell_type": "code",
   "execution_count": null,
   "id": "5286de36",
   "metadata": {},
   "outputs": [],
   "source": [
    "import numpy as np\n",
    "import matplotlib.pyplot as plt\n",
    "\n",
    "n = 10\n",
    "p = 0.5\n",
    "size = 1000\n",
    "\n",
    "# Generate binomial distribution\n",
    "data = np.random.binomial(n, p, size)\n",
    "\n",
    "# Plot histogram\n",
    "plt.hist(data, bins=range(n+2), edgecolor='black')\n",
    "plt.title('Binomial Distribution (n=10, p=0.5)')\n",
    "plt.xlabel('Number of successes')\n",
    "plt.ylabel('Frequency')\n",
    "plt.show()"
   ]
  },
  {
   "cell_type": "markdown",
   "id": "c369769c",
   "metadata": {},
   "source": [
    "Question 7: Implement hypothesis testing using Z-statistics for a sample dataset in Python."
   ]
  },
  {
   "cell_type": "code",
   "execution_count": null,
   "id": "c371b3cf",
   "metadata": {},
   "outputs": [],
   "source": [
    "import numpy as np\n",
    "from scipy import stats\n",
    "\n",
    "sample_data = [49.1, 50.2, 51.0, 48.7, 50.5, 49.8, 50.3, 50.7, 50.2, 49.6,\n",
    "                 50.1, 49.9, 50.8, 50.4, 48.9, 50.6, 50.0, 49.7, 50.2, 49.5,\n",
    "                 50.1, 50.3, 50.4, 50.5, 50.0, 50.7, 49.3, 49.8, 50.2, 50.9,\n",
    "                 50.3, 50.4, 50.0, 49.7, 50.5, 49.9]\n",
    "\n",
    "mu = 50  # Hypothesized population mean\n",
    "\n",
    "mean_sample = np.mean(sample_data)\n",
    "std_sample = np.std(sample_data, ddof=1)\n",
    "n = len(sample_data)\n",
    "\n",
    "z_stat = (mean_sample - mu) / (std_sample / np.sqrt(n))\n",
    "p_value = 2 * (1 - stats.norm.cdf(abs(z_stat)))\n",
    "\n",
    "print(f\"Z-statistic: {z_stat:.4f}\")\n",
    "print(f\"p-value: {p_value:.4f}\")\n",
    "\n",
    "if p_value < 0.05:\n",
    "    print(\"Reject the null hypothesis\")\n",
    "else:\n",
    "    print(\"Fail to reject the null hypothesis\")"
   ]
  },
  {
   "cell_type": "markdown",
   "id": "5dd3ab13",
   "metadata": {},
   "source": [
    "Question 8: Write a Python script to simulate data from a normal distribution and calculate the 95% confidence interval for its mean. Plot the data using Matplotlib."
   ]
  },
  {
   "cell_type": "code",
   "execution_count": null,
   "id": "1969a92e",
   "metadata": {},
   "outputs": [],
   "source": [
    "import numpy as np\n",
    "import matplotlib.pyplot as plt\n",
    "import scipy.stats as stats\n",
    "\n",
    "data = np.random.normal(loc=50, scale=5, size=1000)\n",
    "\n",
    "mean = np.mean(data)\n",
    "sem = stats.sem(data)\n",
    "ci = stats.norm.interval(0.95, loc=mean, scale=sem)\n",
    "\n",
    "print(f\"Mean: {mean:.2f}, 95% CI: {ci}\")\n",
    "\n",
    "plt.hist(data, bins=30, edgecolor='black')\n",
    "plt.title('Normal Distribution Simulation')\n",
    "plt.xlabel('Value')\n",
    "plt.ylabel('Frequency')\n",
    "plt.show()"
   ]
  },
  {
   "cell_type": "markdown",
   "id": "fbb676a1",
   "metadata": {},
   "source": [
    "Question 9: Write a Python function to calculate the Z-scores from a dataset and visualize the standardized data using a histogram. Explain what the Z-scores represent in terms of standard deviations from the mean."
   ]
  },
  {
   "cell_type": "code",
   "execution_count": null,
   "id": "036a9497",
   "metadata": {},
   "outputs": [],
   "source": [
    "import numpy as np\n",
    "import matplotlib.pyplot as plt\n",
    "from scipy import stats\n",
    "\n",
    "def calculate_z_scores(data):\n",
    "    z_scores = stats.zscore(data)\n",
    "    return z_scores\n",
    "\n",
    "data = np.random.normal(50, 10, 1000)\n",
    "z_scores = calculate_z_scores(data)\n",
    "\n",
    "plt.hist(z_scores, bins=30, edgecolor='black')\n",
    "plt.title('Z-score Distribution')\n",
    "plt.xlabel('Z-score')\n",
    "plt.ylabel('Frequency')\n",
    "plt.show()\n",
    "\n",
    "# Explanation: Z-scores indicate how many standard deviations a value is from the mean.\n",
    "# Z = 0 means the value equals the mean, Z > 0 means above the mean, Z < 0 means below the mean."
   ]
  }
 ],
 "metadata": {},
 "nbformat": 4,
 "nbformat_minor": 5
}
