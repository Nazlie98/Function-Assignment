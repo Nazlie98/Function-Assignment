{
  "cells": [
    {
      "cell_type": "markdown",
      "id": "846a4484",
      "metadata": {
        "id": "846a4484"
      },
      "source": [
        "Question 1: Explain the differences between AI, ML, Deep Learning (DL), and Data Science (DS)."
      ]
    },
    {
      "cell_type": "markdown",
      "id": "52793890",
      "metadata": {
        "id": "52793890"
      },
      "source": [
        "Artificial Intelligence (AI) is a broad field that focuses on creating systems capable of performing tasks that typically require human intelligence.\n",
        "Machine Learning (ML) is a subset of AI where algorithms learn patterns from data to make predictions or decisions without being explicitly programmed.\n",
        "Deep Learning (DL) is a subset of ML that uses neural networks with many layers to model complex patterns in large datasets.\n",
        "Data Science (DS) is the interdisciplinary field focused on extracting insights from data using statistics, ML, and domain knowledge."
      ]
    },
    {
      "cell_type": "markdown",
      "id": "246636b0",
      "metadata": {
        "id": "246636b0"
      },
      "source": [
        "Question 2: What are the types of machine learning? Describe each with one real-world example."
      ]
    },
    {
      "cell_type": "markdown",
      "id": "78f3cdd4",
      "metadata": {
        "id": "78f3cdd4"
      },
      "source": [
        "1. Supervised Learning: The model is trained on labeled data. Example: Predicting house prices using historical data.\n",
        "2. Unsupervised Learning: The model finds patterns in unlabeled data. Example: Customer segmentation using clustering.\n",
        "3. Reinforcement Learning: The model learns by interacting with an environment and receiving feedback in the form of rewards or penalties. Example: Training robots to walk."
      ]
    },
    {
      "cell_type": "markdown",
      "id": "452a5027",
      "metadata": {
        "id": "452a5027"
      },
      "source": [
        "Question 3: Define overfitting, underfitting, and the bias-variance tradeoff in machine learning."
      ]
    },
    {
      "cell_type": "markdown",
      "id": "2050cd79",
      "metadata": {
        "id": "2050cd79"
      },
      "source": [
        "Overfitting: When a model learns noise and details in the training data so well that it performs poorly on new data.\n",
        "Underfitting: When a model is too simple and fails to capture patterns in the data.\n",
        "Bias-Variance Tradeoff: The balance between bias (error from overly simplistic models) and variance (error from overly complex models)."
      ]
    },
    {
      "cell_type": "markdown",
      "id": "baf597a7",
      "metadata": {
        "id": "baf597a7"
      },
      "source": [
        "Question 4: What are outliers in a dataset, and list three common techniques for handling them."
      ]
    },
    {
      "cell_type": "markdown",
      "id": "fdc38b8f",
      "metadata": {
        "id": "fdc38b8f"
      },
      "source": [
        "Outliers are data points that significantly deviate from the majority of observations.\n",
        "Techniques:\n",
        "1. Removal of outliers if they are due to data entry errors.\n",
        "2. Transformation (e.g., log transformation) to reduce impact.\n",
        "3. Capping or Winsorization to limit extreme values."
      ]
    },
    {
      "cell_type": "markdown",
      "id": "5fefebb9",
      "metadata": {
        "id": "5fefebb9"
      },
      "source": [
        "Question 5: Explain the process of handling missing values and mention one imputation technique for numerical and one for categorical data."
      ]
    },
    {
      "cell_type": "markdown",
      "id": "c9977922",
      "metadata": {
        "id": "c9977922"
      },
      "source": [
        "Handling missing values involves identifying, understanding the reason for missingness, and deciding whether to remove or impute them.\n",
        "Numerical imputation: Replace missing values with the mean.\n",
        "Categorical imputation: Replace missing values with the mode."
      ]
    },
    {
      "cell_type": "markdown",
      "id": "cccba95f",
      "metadata": {
        "id": "cccba95f"
      },
      "source": [
        "Question 6: Write a Python program that:\n",
        "\n",
        "● Creates a synthetic imbalanced dataset with make_classification() from sklearn.datasets.\n",
        "\n",
        "● Prints the class distribution."
      ]
    },
    {
      "cell_type": "code",
      "execution_count": 4,
      "id": "db635f1a",
      "metadata": {
        "colab": {
          "base_uri": "https://localhost:8080/"
        },
        "id": "db635f1a",
        "outputId": "f6f24fe2-0f71-466b-cc39-686437601323"
      },
      "outputs": [
        {
          "output_type": "stream",
          "name": "stdout",
          "text": [
            "{np.int64(0): np.int64(895), np.int64(1): np.int64(105)}\n"
          ]
        }
      ],
      "source": [
        "from sklearn.datasets import make_classification\n",
        "import numpy as np\n",
        "\n",
        "X, y = make_classification(n_samples=1000, n_features=5, n_classes=2,\n",
        "                           weights=[0.9, 0.1], random_state=42)\n",
        "\n",
        "unique, counts = np.unique(y, return_counts=True)\n",
        "print(dict(zip(unique, counts)))"
      ]
    },
    {
      "cell_type": "markdown",
      "id": "3fdf8f95",
      "metadata": {
        "id": "3fdf8f95"
      },
      "source": [
        "Question 7: Implement one-hot encoding using pandas for the following list of colors: ['Red', 'Green', 'Blue', 'Green', 'Red']. Print the resulting dataframe."
      ]
    },
    {
      "cell_type": "code",
      "execution_count": 3,
      "id": "3d65aac4",
      "metadata": {
        "colab": {
          "base_uri": "https://localhost:8080/"
        },
        "id": "3d65aac4",
        "outputId": "9996eeb1-bf6e-4ad0-c3a5-e02046d75578"
      },
      "outputs": [
        {
          "output_type": "stream",
          "name": "stdout",
          "text": [
            "   Color_Blue  Color_Green  Color_Red\n",
            "0       False        False       True\n",
            "1       False         True      False\n",
            "2        True        False      False\n",
            "3       False         True      False\n",
            "4       False        False       True\n"
          ]
        }
      ],
      "source": [
        "import pandas as pd\n",
        "\n",
        "colors = ['Red', 'Green', 'Blue', 'Green', 'Red']\n",
        "df = pd.DataFrame({'Color': colors})\n",
        "encoded_df = pd.get_dummies(df, columns=['Color'])\n",
        "print(encoded_df)"
      ]
    },
    {
      "cell_type": "markdown",
      "id": "a886d4a3",
      "metadata": {
        "id": "a886d4a3"
      },
      "source": [
        "Question 8: Write a Python script to:\n",
        "\n",
        "● Generate 1000 samples from a normal distribution.\n",
        "\n",
        "● Introduce 50 random missing values.\n",
        "\n",
        "● Fill missing values with the column mean.\n",
        "\n",
        "● Plot a histogram before and after imputation. (Include your Python code and output in the code box below.)"
      ]
    },
    {
      "cell_type": "code",
      "execution_count": 2,
      "id": "ca100b7c",
      "metadata": {
        "colab": {
          "base_uri": "https://localhost:8080/",
          "height": 887
        },
        "id": "ca100b7c",
        "outputId": "38e51495-b336-41d8-a2a2-d09c4300befe"
      },
      "outputs": [
        {
          "output_type": "display_data",
          "data": {
            "text/plain": [
              "<Figure size 640x480 with 1 Axes>"
            ],
            "image/png": "[encoded data removed]"
          },
          "metadata": {}
        },
        {
          "output_type": "display_data",
          "data": {
            "text/plain": [
              "<Figure size 640x480 with 1 Axes>"
            ],
            "image/png": "[encoded data removed]"
          },
          "metadata": {}
        }
      ],
      "source": [
        "import numpy as np\n",
        "import matplotlib.pyplot as plt\n",
        "\n",
        "data = np.random.normal(50, 10, 1000)\n",
        "missing_indices = np.random.choice(1000, 50, replace=False)\n",
        "data_with_nan = data.copy()\n",
        "data_with_nan[missing_indices] = np.nan\n",
        "\n",
        "# Plot before imputation\n",
        "plt.hist(data_with_nan[~np.isnan(data_with_nan)], bins=30, edgecolor='black')\n",
        "plt.title('Before Imputation')\n",
        "plt.show()\n",
        "\n",
        "# Impute with mean\n",
        "mean_val = np.nanmean(data_with_nan)\n",
        "data_with_nan[np.isnan(data_with_nan)] = mean_val\n",
        "\n",
        "# Plot after imputation\n",
        "plt.hist(data_with_nan, bins=30, edgecolor='black')\n",
        "plt.title('After Imputation')\n",
        "plt.show()"
      ]
    },
    {
      "cell_type": "markdown",
      "id": "eecde35d",
      "metadata": {
        "id": "eecde35d"
      },
      "source": [
        "Question 9: Implement Min-Max scaling. on the following list of numbers [2, 5, 10, 15, 20] using sklearn.preprocessing.MinMaxScaler. Print the scaled array."
      ]
    },
    {
      "cell_type": "code",
      "execution_count": 1,
      "id": "5001f573",
      "metadata": {
        "colab": {
          "base_uri": "https://localhost:8080/"
        },
        "id": "5001f573",
        "outputId": "d0a0989e-c8c4-421f-8edb-71e194356051"
      },
      "outputs": [
        {
          "output_type": "stream",
          "name": "stdout",
          "text": [
            "[[0.        ]\n",
            " [0.16666667]\n",
            " [0.44444444]\n",
            " [0.72222222]\n",
            " [1.        ]]\n"
          ]
        }
      ],
      "source": [
        "from sklearn.preprocessing import MinMaxScaler\n",
        "import numpy as np\n",
        "\n",
        "data = np.array([[2], [5], [10], [15], [20]])\n",
        "scaler = MinMaxScaler()\n",
        "scaled_data = scaler.fit_transform(data)\n",
        "print(scaled_data)"
      ]
    },
    {
      "cell_type": "markdown",
      "id": "407cb421",
      "metadata": {
        "id": "407cb421"
      },
      "source": [
        "Question 10: Data preparation plan for customer transaction dataset."
      ]
    },
    {
      "cell_type": "markdown",
      "id": "36af051f",
      "metadata": {
        "id": "36af051f"
      },
      "source": [
        "Step 1: Handle missing ages → Impute with median (numerical).\n",
        "Step 2: Handle outliers in transaction amount → Use IQR method to detect and cap values.\n",
        "Step 3: Handle imbalance → Apply SMOTE or class weighting.\n",
        "Step 4: Encode categorical variables → Use one-hot encoding for nominal features.\n",
        "Step 5: Scale numerical features → Apply standard scaling or min-max scaling."
      ]
    }
  ],
  "metadata": {
    "colab": {
      "provenance": []
    },
    "language_info": {
      "name": "python"
    },
    "kernelspec": {
      "name": "python3",
      "display_name": "Python 3"
    }
  },
  "nbformat": 4,
  "nbformat_minor": 5
}