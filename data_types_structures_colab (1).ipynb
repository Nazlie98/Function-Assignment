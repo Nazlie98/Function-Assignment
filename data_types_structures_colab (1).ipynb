{
  "cells": [
    {
      "cell_type": "markdown",
      "id": "9381f8d8",
      "metadata": {
        "id": "9381f8d8"
      },
      "source": [
        "**Q1: What are data structures, and why are they important?**\n",
        "\n",
        "A: Data structures are ways of organizing and storing data so it can be accessed and modified efficiently."
      ]
    },
    {
      "cell_type": "markdown",
      "id": "19dba134",
      "metadata": {
        "id": "19dba134"
      },
      "source": [
        "**Q2: Explain the difference between mutable and immutable data types with examples**\n",
        "\n",
        "A: Mutable: Can be changed after creation (e.g., list, dict). Immutable: Cannot be changed after creation (e.g., tuple, string)."
      ]
    },
    {
      "cell_type": "markdown",
      "id": "ba7bd33c",
      "metadata": {
        "id": "ba7bd33c"
      },
      "source": [
        "**Q3: What are the main differences between lists and tuples in Python?**\n",
        "\n",
        "A: Lists are mutable, use [], tuples are immutable, use (). Tuples are faster."
      ]
    },
    {
      "cell_type": "markdown",
      "id": "066e9e04",
      "metadata": {
        "id": "066e9e04"
      },
      "source": [
        "**Q4: Describe how dictionaries store data**\n",
        "\n",
        "A: Dictionaries store key-value pairs using a hash table."
      ]
    },
    {
      "cell_type": "markdown",
      "id": "195f29f4",
      "metadata": {
        "id": "195f29f4"
      },
      "source": [
        "**Q:5 Why might you use a set instead of a list in Python?**\n",
        "\n",
        "A: Sets remove duplicates and allow fast membership tests."
      ]
    },
    {
      "cell_type": "markdown",
      "id": "8f158906",
      "metadata": {
        "id": "8f158906"
      },
      "source": [
        "**Q6: What is a string in Python, and how is it different from a list?**\n",
        "\n",
        "A: A string is an immutable sequence of characters. Lists are mutable."
      ]
    },
    {
      "cell_type": "markdown",
      "id": "c07ad056",
      "metadata": {
        "id": "c07ad056"
      },
      "source": [
        "**Q7: How do tuples ensure data integrity in Python?**\n",
        "\n",
        "A: Tuples are immutable, so they preserve data without risk of modification."
      ]
    },
    {
      "cell_type": "markdown",
      "id": "2bb204d5",
      "metadata": {
        "id": "2bb204d5"
      },
      "source": [
        "**Q8: What is a hash table, and how does it relate to dictionaries in Python?**\n",
        "\n",
        "A: A hash table maps keys to values via a hash function. Python dictionaries use hash tables internally."
      ]
    },
    {
      "cell_type": "markdown",
      "id": "5d27149a",
      "metadata": {
        "id": "5d27149a"
      },
      "source": [
        "**Q9: Can lists contain different data types in Python?**\n",
        "\n",
        "A: Yes, lists can store elements of different types."
      ]
    },
    {
      "cell_type": "markdown",
      "id": "86f0e178",
      "metadata": {
        "id": "86f0e178"
      },
      "source": [
        "**Q10: Explain why strings are immutable in Python**\n",
        "\n",
        "A: Strings are immutable for performance, memory optimization, and safety."
      ]
    },
    {
      "cell_type": "markdown",
      "id": "a5086170",
      "metadata": {
        "id": "a5086170"
      },
      "source": [
        "**Q11: What advantages do dictionaries offer over lists for certain tasks?**\n",
        "\n",
        "A: Dictionaries allow fast key lookups compared to lists."
      ]
    },
    {
      "cell_type": "markdown",
      "id": "0166beac",
      "metadata": {
        "id": "0166beac"
      },
      "source": [
        "**Q12: Describe a scenario where using a tuple would be preferable over a list**\n",
        "\n",
        "A: Use a tuple for fixed, unchangeable data like coordinates."
      ]
    },
    {
      "cell_type": "markdown",
      "id": "2a7c6fcc",
      "metadata": {
        "id": "2a7c6fcc"
      },
      "source": [
        "**Q13: How do sets handle duplicate values in Python?**\n",
        "\n",
        "A: Sets automatically remove duplicates."
      ]
    },
    {
      "cell_type": "markdown",
      "id": "b17c37be",
      "metadata": {
        "id": "b17c37be"
      },
      "source": [
        "**Q14: How does the 'in' keyword work differently for lists and dictionaries?**\n",
        "\n",
        "A: 'in' checks values in lists, keys in dictionaries."
      ]
    },
    {
      "cell_type": "markdown",
      "id": "a960c8b0",
      "metadata": {
        "id": "a960c8b0"
      },
      "source": [
        "**Q15: Can you modify the elements of a tuple? Explain why or why not**\n",
        "\n",
        "A: No, tuples are immutable and cannot be changed after creation."
      ]
    },
    {
      "cell_type": "markdown",
      "id": "168bd034",
      "metadata": {
        "id": "168bd034"
      },
      "source": [
        "**Q16: What is a nested dictionary, and give an example of its use case**\n",
        "\n",
        "A: A nested dictionary is a dictionary inside another dictionary, useful for hierarchical data like student records."
      ]
    },
    {
      "cell_type": "markdown",
      "id": "bdd118a8",
      "metadata": {
        "id": "bdd118a8"
      },
      "source": [
        "**Q17: Describe the time complexity of accessing elements in a dictionary**\n",
        "\n",
        "A: O(1) on average because of hash table lookup."
      ]
    },
    {
      "cell_type": "markdown",
      "id": "a5ab073c",
      "metadata": {
        "id": "a5ab073c"
      },
      "source": [
        "**Q18: In what situations are lists preferred over dictionaries?**\n",
        "\n",
        "A: Lists are preferred when you need ordered sequences without key-value mapping."
      ]
    },
    {
      "cell_type": "markdown",
      "id": "5afa1ae3",
      "metadata": {
        "id": "5afa1ae3"
      },
      "source": [
        "**Q19: Why are dictionaries considered unordered, and how does that affect data retrieval?**\n",
        "\n",
        "A: They are unordered because their storage depends on hash values."
      ]
    },
    {
      "cell_type": "markdown",
      "id": "65293cdb",
      "metadata": {
        "id": "65293cdb"
      },
      "source": [
        "**Q20: Explain the difference between a list and a dictionary in terms of data retrieval.**\n",
        "\n",
        "A: Lists require index-based access; dictionaries use key-based retrieval."
      ]
    },
    {
      "cell_type": "markdown",
      "source": [
        "##Practical Questions"
      ],
      "metadata": {
        "id": "EDKI2LyytA5M"
      },
      "id": "EDKI2LyytA5M"
    },
    {
      "cell_type": "markdown",
      "id": "132d6da1",
      "metadata": {
        "id": "132d6da1"
      },
      "source": [
        "**Q1: Write a code to create a string with your name and print it**"
      ]
    },
    {
      "cell_type": "code",
      "execution_count": 1,
      "id": "29a35e38",
      "metadata": {
        "colab": {
          "base_uri": "https://localhost:8080/"
        },
        "id": "29a35e38",
        "outputId": "99850113-0ddb-458d-d3d3-34ba8021c5c5"
      },
      "outputs": [
        {
          "output_type": "stream",
          "name": "stdout",
          "text": [
            "Sahil\n"
          ]
        }
      ],
      "source": [
        "name = \"Mobashareen\"\n",
        "print(name)"
      ]
    },
    {
      "cell_type": "markdown",
      "id": "f2c2b6f9",
      "metadata": {
        "id": "f2c2b6f9"
      },
      "source": [
        "**Q2: Write a code to find the length of the string \"Hello World\"**"
      ]
    },
    {
      "cell_type": "code",
      "execution_count": 2,
      "id": "04191f6a",
      "metadata": {
        "colab": {
          "base_uri": "https://localhost:8080/"
        },
        "id": "04191f6a",
        "outputId": "1208263f-602d-4863-99f4-7fcbd023d626"
      },
      "outputs": [
        {
          "output_type": "stream",
          "name": "stdout",
          "text": [
            "11\n"
          ]
        }
      ],
      "source": [
        "print(len(\"Hello World\"))"
      ]
    },
    {
      "cell_type": "markdown",
      "id": "d707b603",
      "metadata": {
        "id": "d707b603"
      },
      "source": [
        "**Q3: Write a code to slice the first 3 characters from the string \"Python Programming\"**"
      ]
    },
    {
      "cell_type": "code",
      "execution_count": 4,
      "id": "448543c5",
      "metadata": {
        "colab": {
          "base_uri": "https://localhost:8080/"
        },
        "id": "448543c5",
        "outputId": "9ebec020-478e-4f85-f552-2b953d7eb5b1"
      },
      "outputs": [
        {
          "output_type": "stream",
          "name": "stdout",
          "text": [
            "Pyt\n"
          ]
        }
      ],
      "source": [
        "print(\"Python Programming\"[:3])"
      ]
    },
    {
      "cell_type": "markdown",
      "id": "79c593a3",
      "metadata": {
        "id": "79c593a3"
      },
      "source": [
        "**Q4: Write a code to convert the string \"hello\" to uppercase**"
      ]
    },
    {
      "cell_type": "code",
      "execution_count": 3,
      "id": "150be6f0",
      "metadata": {
        "colab": {
          "base_uri": "https://localhost:8080/"
        },
        "id": "150be6f0",
        "outputId": "cc675c64-4c6a-4328-f0e6-2f24bde652b6"
      },
      "outputs": [
        {
          "output_type": "stream",
          "name": "stdout",
          "text": [
            "HELLO\n"
          ]
        }
      ],
      "source": [
        "print(\"hello\".upper())"
      ]
    },
    {
      "cell_type": "markdown",
      "id": "9233fcfc",
      "metadata": {
        "id": "9233fcfc"
      },
      "source": [
        "**Q5: Write a code to replace the word \"apple\" with \"orange\" in the string \"I like apple\"**"
      ]
    },
    {
      "cell_type": "code",
      "execution_count": null,
      "id": "b483b759",
      "metadata": {
        "id": "b483b759"
      },
      "outputs": [],
      "source": [
        "print(\"I like apple\".replace(\"apple\", \"orange\"))"
      ]
    },
    {
      "cell_type": "markdown",
      "id": "ebeb8c4f",
      "metadata": {
        "id": "ebeb8c4f"
      },
      "source": [
        "**Q6: Write a code to create a list with numbers 1 to 5 and print it**"
      ]
    },
    {
      "cell_type": "code",
      "execution_count": 6,
      "id": "37b065b3",
      "metadata": {
        "colab": {
          "base_uri": "https://localhost:8080/"
        },
        "id": "37b065b3",
        "outputId": "b9cf3999-7d5f-47cc-e62f-5477bc5399fa"
      },
      "outputs": [
        {
          "output_type": "stream",
          "name": "stdout",
          "text": [
            "[1, 2, 3, 4, 5]\n"
          ]
        }
      ],
      "source": [
        "print([1, 2, 3, 4, 5])"
      ]
    },
    {
      "cell_type": "markdown",
      "id": "3e34268f",
      "metadata": {
        "id": "3e34268f"
      },
      "source": [
        "**Q7: Write a code to append the number 10 to the list [1, 2, 3, 4]**"
      ]
    },
    {
      "cell_type": "code",
      "execution_count": 5,
      "id": "8b7ecead",
      "metadata": {
        "colab": {
          "base_uri": "https://localhost:8080/"
        },
        "id": "8b7ecead",
        "outputId": "f8e4b463-2b53-495b-f8a1-c1dae6f3608b"
      },
      "outputs": [
        {
          "output_type": "stream",
          "name": "stdout",
          "text": [
            "[1, 2, 3, 4, 10]\n"
          ]
        }
      ],
      "source": [
        "lst = [1, 2, 3, 4]\n",
        "lst.append(10)\n",
        "print(lst)"
      ]
    },
    {
      "cell_type": "markdown",
      "id": "3e9fa74e",
      "metadata": {
        "id": "3e9fa74e"
      },
      "source": [
        "**Q8: Write a code to remove the number 3 from the list [1, 2, 3, 4, 5]**"
      ]
    },
    {
      "cell_type": "code",
      "execution_count": 7,
      "id": "37a3c3c0",
      "metadata": {
        "colab": {
          "base_uri": "https://localhost:8080/"
        },
        "id": "37a3c3c0",
        "outputId": "52e15d99-9830-4b61-aa4e-3fb2ad68d927"
      },
      "outputs": [
        {
          "output_type": "stream",
          "name": "stdout",
          "text": [
            "[1, 2, 4, 5]\n"
          ]
        }
      ],
      "source": [
        "lst = [1, 2, 3, 4, 5]\n",
        "lst.remove(3)\n",
        "print(lst)"
      ]
    },
    {
      "cell_type": "markdown",
      "id": "e7ec2718",
      "metadata": {
        "id": "e7ec2718"
      },
      "source": [
        "**Q9: Write a code to access the second element in the list ['a', 'b', 'c', 'd']**"
      ]
    },
    {
      "cell_type": "code",
      "execution_count": 8,
      "id": "72f3c5f2",
      "metadata": {
        "colab": {
          "base_uri": "https://localhost:8080/"
        },
        "id": "72f3c5f2",
        "outputId": "37f4372e-3b57-45c1-97a8-5b41be5bb309"
      },
      "outputs": [
        {
          "output_type": "stream",
          "name": "stdout",
          "text": [
            "b\n"
          ]
        }
      ],
      "source": [
        "print(['a', 'b', 'c', 'd'][1])"
      ]
    },
    {
      "cell_type": "markdown",
      "id": "fc14b6bb",
      "metadata": {
        "id": "fc14b6bb"
      },
      "source": [
        "**10: Write a code to reverse the list [10, 20, 30, 40, 50]**"
      ]
    },
    {
      "cell_type": "code",
      "execution_count": 9,
      "id": "4cfb1d98",
      "metadata": {
        "colab": {
          "base_uri": "https://localhost:8080/"
        },
        "id": "4cfb1d98",
        "outputId": "89feafdd-b5cd-4cec-a056-31b9ca0041a4"
      },
      "outputs": [
        {
          "output_type": "stream",
          "name": "stdout",
          "text": [
            "[50, 40, 30, 20, 10]\n"
          ]
        }
      ],
      "source": [
        "lst = [10, 20, 30, 40, 50]\n",
        "lst.reverse()\n",
        "print(lst)"
      ]
    },
    {
      "cell_type": "markdown",
      "id": "2bb32789",
      "metadata": {
        "id": "2bb32789"
      },
      "source": [
        "**Q11: Write a code to create a tuple with the elements 100, 200, 300 and print it**"
      ]
    },
    {
      "cell_type": "code",
      "execution_count": 10,
      "id": "f239a0a8",
      "metadata": {
        "colab": {
          "base_uri": "https://localhost:8080/"
        },
        "id": "f239a0a8",
        "outputId": "ec458e1a-9a90-468d-a53b-888a44b1633a"
      },
      "outputs": [
        {
          "output_type": "stream",
          "name": "stdout",
          "text": [
            "(100, 200, 300)\n"
          ]
        }
      ],
      "source": [
        "t = (100, 200, 300)\n",
        "print(t)"
      ]
    },
    {
      "cell_type": "markdown",
      "id": "1720a449",
      "metadata": {
        "id": "1720a449"
      },
      "source": [
        "**Q12: Write a code to access the second-to-last element of the tuple ('red', 'green', 'blue', 'yellow')**"
      ]
    },
    {
      "cell_type": "code",
      "execution_count": 11,
      "id": "164394fb",
      "metadata": {
        "colab": {
          "base_uri": "https://localhost:8080/"
        },
        "id": "164394fb",
        "outputId": "fbab414b-d4de-4070-c231-d3dda28c8155"
      },
      "outputs": [
        {
          "output_type": "stream",
          "name": "stdout",
          "text": [
            "blue\n"
          ]
        }
      ],
      "source": [
        "print(('red', 'green', 'blue', 'yellow')[-2])"
      ]
    },
    {
      "cell_type": "markdown",
      "id": "6414be98",
      "metadata": {
        "id": "6414be98"
      },
      "source": [
        "**Q13: Write a code to find the minimum number in the tuple (10, 20, 5, 15)**"
      ]
    },
    {
      "cell_type": "code",
      "execution_count": 12,
      "id": "0fe4dcf6",
      "metadata": {
        "colab": {
          "base_uri": "https://localhost:8080/"
        },
        "id": "0fe4dcf6",
        "outputId": "53a9a8d6-d13d-4368-a502-c393a64c325b"
      },
      "outputs": [
        {
          "output_type": "stream",
          "name": "stdout",
          "text": [
            "5\n"
          ]
        }
      ],
      "source": [
        "print(min((10, 20, 5, 15)))"
      ]
    },
    {
      "cell_type": "markdown",
      "id": "568ede95",
      "metadata": {
        "id": "568ede95"
      },
      "source": [
        "**Q14: Write a code to find the index of the element \"cat\" in the tuple ('dog', 'cat', 'rabbit')**"
      ]
    },
    {
      "cell_type": "code",
      "execution_count": 13,
      "id": "2fb6dbc4",
      "metadata": {
        "colab": {
          "base_uri": "https://localhost:8080/"
        },
        "id": "2fb6dbc4",
        "outputId": "f65aa68c-8384-4f92-acfd-1f8d84c57155"
      },
      "outputs": [
        {
          "output_type": "stream",
          "name": "stdout",
          "text": [
            "1\n"
          ]
        }
      ],
      "source": [
        "print(('dog', 'cat', 'rabbit').index(\"cat\"))"
      ]
    },
    {
      "cell_type": "markdown",
      "id": "43c341df",
      "metadata": {
        "id": "43c341df"
      },
      "source": [
        "**Q15: Write a code to create a tuple containing three different fruits and check if \"kiwi\" is in it**"
      ]
    },
    {
      "cell_type": "code",
      "execution_count": 14,
      "id": "4698c6c5",
      "metadata": {
        "colab": {
          "base_uri": "https://localhost:8080/"
        },
        "id": "4698c6c5",
        "outputId": "f9c024d5-53a2-488d-c6b3-d52bc7ebce30"
      },
      "outputs": [
        {
          "output_type": "stream",
          "name": "stdout",
          "text": [
            "False\n"
          ]
        }
      ],
      "source": [
        "fruits = (\"apple\", \"banana\", \"cherry\")\n",
        "print(\"kiwi\" in fruits)"
      ]
    },
    {
      "cell_type": "markdown",
      "id": "05ab0b13",
      "metadata": {
        "id": "05ab0b13"
      },
      "source": [
        "**Q16: Write a code to create a set with the elements 'a', 'b', 'c' and print it**"
      ]
    },
    {
      "cell_type": "code",
      "execution_count": 15,
      "id": "51393c12",
      "metadata": {
        "colab": {
          "base_uri": "https://localhost:8080/"
        },
        "id": "51393c12",
        "outputId": "d325cdf4-fb16-466f-aec7-4fbe2cda6261"
      },
      "outputs": [
        {
          "output_type": "stream",
          "name": "stdout",
          "text": [
            "{'b', 'c', 'a'}\n"
          ]
        }
      ],
      "source": [
        "print({'a', 'b', 'c'})"
      ]
    },
    {
      "cell_type": "markdown",
      "id": "14967a26",
      "metadata": {
        "id": "14967a26"
      },
      "source": [
        "**Q17: Write a code to clear all elements from the set {1, 2, 3, 4, 5}**"
      ]
    },
    {
      "cell_type": "code",
      "execution_count": 16,
      "id": "c1b8d0a4",
      "metadata": {
        "colab": {
          "base_uri": "https://localhost:8080/"
        },
        "id": "c1b8d0a4",
        "outputId": "703d6ebe-e9a5-4f2a-a29b-9605e5f402e0"
      },
      "outputs": [
        {
          "output_type": "stream",
          "name": "stdout",
          "text": [
            "set()\n"
          ]
        }
      ],
      "source": [
        "s = {1, 2, 3, 4, 5}\n",
        "s.clear()\n",
        "print(s)"
      ]
    },
    {
      "cell_type": "markdown",
      "id": "d5c6b616",
      "metadata": {
        "id": "d5c6b616"
      },
      "source": [
        "**Q18: Write a code to remove the element 4 from the set {1, 2, 3, 4}**"
      ]
    },
    {
      "cell_type": "code",
      "execution_count": 17,
      "id": "d9db0dc6",
      "metadata": {
        "colab": {
          "base_uri": "https://localhost:8080/"
        },
        "id": "d9db0dc6",
        "outputId": "a97e722f-bedd-4a51-9eeb-097fb8345fe4"
      },
      "outputs": [
        {
          "output_type": "stream",
          "name": "stdout",
          "text": [
            "{1, 2, 3}\n"
          ]
        }
      ],
      "source": [
        "s = {1, 2, 3, 4}\n",
        "s.remove(4)\n",
        "print(s)"
      ]
    },
    {
      "cell_type": "markdown",
      "id": "9caba135",
      "metadata": {
        "id": "9caba135"
      },
      "source": [
        "**Q19: Write a code to find the union of two sets {1, 2, 3} and {3, 4, 5}**"
      ]
    },
    {
      "cell_type": "code",
      "execution_count": 18,
      "id": "759d510a",
      "metadata": {
        "colab": {
          "base_uri": "https://localhost:8080/"
        },
        "id": "759d510a",
        "outputId": "ab1495d8-81a0-4728-c284-bf61de0a3ce1"
      },
      "outputs": [
        {
          "output_type": "stream",
          "name": "stdout",
          "text": [
            "{1, 2, 3, 4, 5}\n"
          ]
        }
      ],
      "source": [
        "print({1, 2, 3} | {3, 4, 5})"
      ]
    },
    {
      "cell_type": "markdown",
      "id": "d36a8e9e",
      "metadata": {
        "id": "d36a8e9e"
      },
      "source": [
        "**Q20: Write a code to find the intersection of two sets {1, 2, 3} and {2, 3, 4}**"
      ]
    },
    {
      "cell_type": "code",
      "execution_count": 19,
      "id": "381ebfbb",
      "metadata": {
        "colab": {
          "base_uri": "https://localhost:8080/"
        },
        "id": "381ebfbb",
        "outputId": "5de42872-a33a-424b-bf39-d18208c7724a"
      },
      "outputs": [
        {
          "output_type": "stream",
          "name": "stdout",
          "text": [
            "{2, 3}\n"
          ]
        }
      ],
      "source": [
        "print({1, 2, 3} & {2, 3, 4})"
      ]
    },
    {
      "cell_type": "markdown",
      "id": "5ca7164c",
      "metadata": {
        "id": "5ca7164c"
      },
      "source": [
        "**Q21: Write a code to create a dictionary with the keys \"name\", \"age\", and \"city\", and print it**"
      ]
    },
    {
      "cell_type": "code",
      "execution_count": 20,
      "id": "7f8c7087",
      "metadata": {
        "colab": {
          "base_uri": "https://localhost:8080/"
        },
        "id": "7f8c7087",
        "outputId": "3969869e-8b51-41eb-86c9-3541b15c128e"
      },
      "outputs": [
        {
          "output_type": "stream",
          "name": "stdout",
          "text": [
            "{'name': 'Sahil', 'age': 25, 'city': 'Delhi'}\n"
          ]
        }
      ],
      "source": [
        "print({\"name\": \"Sahil\", \"age\": 25, \"city\": \"Delhi\"})"
      ]
    },
    {
      "cell_type": "markdown",
      "id": "cdc14324",
      "metadata": {
        "id": "cdc14324"
      },
      "source": [
        "**Q22: Write a code to add a new key-value pair \"country\": \"USA\" to the dictionary {'name': 'John', 'age': 25}**"
      ]
    },
    {
      "cell_type": "code",
      "execution_count": 21,
      "id": "1f453da0",
      "metadata": {
        "colab": {
          "base_uri": "https://localhost:8080/"
        },
        "id": "1f453da0",
        "outputId": "b97853ce-5280-42df-955d-4786f9af4608"
      },
      "outputs": [
        {
          "output_type": "stream",
          "name": "stdout",
          "text": [
            "{'name': 'John', 'age': 25, 'country': 'USA'}\n"
          ]
        }
      ],
      "source": [
        "d = {\"name\": \"John\", \"age\": 25}\n",
        "d[\"country\"] = \"USA\"\n",
        "print(d)"
      ]
    },
    {
      "cell_type": "markdown",
      "id": "521bd2d7",
      "metadata": {
        "id": "521bd2d7"
      },
      "source": [
        "**Q23: Write a code to access the value associated with the key \"name\" in the dictionary {'name': 'Alice', 'age': 30}**"
      ]
    },
    {
      "cell_type": "code",
      "execution_count": 22,
      "id": "1014a25e",
      "metadata": {
        "colab": {
          "base_uri": "https://localhost:8080/"
        },
        "id": "1014a25e",
        "outputId": "41e8968b-c636-4015-d555-46fec08f43a5"
      },
      "outputs": [
        {
          "output_type": "stream",
          "name": "stdout",
          "text": [
            "Alice\n"
          ]
        }
      ],
      "source": [
        "print({\"name\": \"Alice\", \"age\": 30}[\"name\"])"
      ]
    },
    {
      "cell_type": "markdown",
      "id": "9ef9d307",
      "metadata": {
        "id": "9ef9d307"
      },
      "source": [
        "**Q24: Write a code to remove the key \"age\" from the dictionary {'name': 'Bob', 'age': 22, 'city': 'New York'}**"
      ]
    },
    {
      "cell_type": "code",
      "execution_count": 23,
      "id": "603e83a0",
      "metadata": {
        "colab": {
          "base_uri": "https://localhost:8080/"
        },
        "id": "603e83a0",
        "outputId": "2138b2dc-19f5-46d8-fa2c-25f65490de03"
      },
      "outputs": [
        {
          "output_type": "stream",
          "name": "stdout",
          "text": [
            "{'name': 'Bob', 'city': 'New York'}\n"
          ]
        }
      ],
      "source": [
        "d = {\"name\": \"Bob\", \"age\": 22, \"city\": \"New York\"}\n",
        "del d[\"age\"]\n",
        "print(d)"
      ]
    },
    {
      "cell_type": "markdown",
      "id": "8421800c",
      "metadata": {
        "id": "8421800c"
      },
      "source": [
        "**Q25: Write a code to check if the key \"city\" exists in the dictionary {'name': 'Alice', 'city': 'Paris'}**"
      ]
    },
    {
      "cell_type": "code",
      "execution_count": 24,
      "id": "f42c8c5e",
      "metadata": {
        "colab": {
          "base_uri": "https://localhost:8080/"
        },
        "id": "f42c8c5e",
        "outputId": "e82bca4d-422e-46e7-f578-359c661682d9"
      },
      "outputs": [
        {
          "output_type": "stream",
          "name": "stdout",
          "text": [
            "True\n"
          ]
        }
      ],
      "source": [
        "print(\"city\" in {\"name\": \"Alice\", \"city\": \"Paris\"})"
      ]
    },
    {
      "cell_type": "markdown",
      "id": "20c8488d",
      "metadata": {
        "id": "20c8488d"
      },
      "source": [
        "**Q26: Write a code to create a list, a tuple, and a dictionary, and print them all**"
      ]
    },
    {
      "cell_type": "code",
      "execution_count": 25,
      "id": "16bcabf5",
      "metadata": {
        "colab": {
          "base_uri": "https://localhost:8080/"
        },
        "id": "16bcabf5",
        "outputId": "b1ff61c2-87a4-4335-deaf-47c902554e4a"
      },
      "outputs": [
        {
          "output_type": "stream",
          "name": "stdout",
          "text": [
            "[1, 2, 3] (4, 5, 6) {'a': 1, 'b': 2}\n"
          ]
        }
      ],
      "source": [
        "lst = [1, 2, 3]\n",
        "tup = (4, 5, 6)\n",
        "dic = {\"a\": 1, \"b\": 2}\n",
        "print(lst, tup, dic)"
      ]
    },
    {
      "cell_type": "markdown",
      "id": "366a7c74",
      "metadata": {
        "id": "366a7c74"
      },
      "source": [
        "**Q27: Write a code to create a list of 5 random numbers between 1 and 100, sort it in ascending order, and print the result**"
      ]
    },
    {
      "cell_type": "code",
      "execution_count": 26,
      "id": "3658eb5f",
      "metadata": {
        "colab": {
          "base_uri": "https://localhost:8080/"
        },
        "id": "3658eb5f",
        "outputId": "1ef6c563-f0ac-481e-ddbb-c9715a626c41"
      },
      "outputs": [
        {
          "output_type": "stream",
          "name": "stdout",
          "text": [
            "[18, 50, 66, 69, 72]\n"
          ]
        }
      ],
      "source": [
        "import random\n",
        "lst = random.sample(range(1, 101), 5)\n",
        "lst.sort()\n",
        "print(lst)"
      ]
    },
    {
      "cell_type": "markdown",
      "id": "4dc525cd",
      "metadata": {
        "id": "4dc525cd"
      },
      "source": [
        "**Q28: Write a code to create a list with strings and print the element at the third index**"
      ]
    },
    {
      "cell_type": "code",
      "execution_count": 27,
      "id": "1603b04f",
      "metadata": {
        "colab": {
          "base_uri": "https://localhost:8080/"
        },
        "id": "1603b04f",
        "outputId": "1a2c3ed7-add9-4eab-f109-b8070e9045c8"
      },
      "outputs": [
        {
          "output_type": "stream",
          "name": "stdout",
          "text": [
            "date\n"
          ]
        }
      ],
      "source": [
        "lst = [\"apple\", \"banana\", \"cherry\", \"date\"]\n",
        "print(lst[3])"
      ]
    },
    {
      "cell_type": "markdown",
      "id": "33ea1c7c",
      "metadata": {
        "id": "33ea1c7c"
      },
      "source": [
        "**Q29: Write a code to combine two dictionaries into one and print the result**"
      ]
    },
    {
      "cell_type": "code",
      "execution_count": 28,
      "id": "ad2cfe9c",
      "metadata": {
        "colab": {
          "base_uri": "https://localhost:8080/"
        },
        "id": "ad2cfe9c",
        "outputId": "c26d8f73-48cc-4602-bd0c-5467217bb48f"
      },
      "outputs": [
        {
          "output_type": "stream",
          "name": "stdout",
          "text": [
            "{'a': 1, 'b': 2, 'c': 3, 'd': 4}\n"
          ]
        }
      ],
      "source": [
        "d1 = {\"a\": 1, \"b\": 2}\n",
        "d2 = {\"c\": 3, \"d\": 4}\n",
        "d1.update(d2)\n",
        "print(d1)"
      ]
    },
    {
      "cell_type": "markdown",
      "id": "91f90305",
      "metadata": {
        "id": "91f90305"
      },
      "source": [
        "**Q30: Write a code to convert a list of strings into a set**"
      ]
    },
    {
      "cell_type": "code",
      "execution_count": 29,
      "id": "fe339fde",
      "metadata": {
        "colab": {
          "base_uri": "https://localhost:8080/"
        },
        "id": "fe339fde",
        "outputId": "7ea04c39-d248-49ce-c115-6e6fadb39518"
      },
      "outputs": [
        {
          "output_type": "stream",
          "name": "stdout",
          "text": [
            "{'banana', 'apple'}\n"
          ]
        }
      ],
      "source": [
        "lst = [\"apple\", \"banana\", \"apple\"]\n",
        "print(set(lst))"
      ]
    }
  ],
  "metadata": {
    "colab": {
      "provenance": []
    },
    "language_info": {
      "name": "python"
    },
    "kernelspec": {
      "name": "python3",
      "display_name": "Python 3"
    }
  },
  "nbformat": 4,
  "nbformat_minor": 5
}