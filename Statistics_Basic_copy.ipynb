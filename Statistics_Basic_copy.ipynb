{
  "nbformat": 4,
  "nbformat_minor": 0,
  "metadata": {
    "colab": {
      "provenance": []
    },
    "kernelspec": {
      "name": "python3",
      "display_name": "Python 3"
    },
    "language_info": {
      "name": "python"
    }
  },
  "cells": [
    {
      "cell_type": "markdown",
      "source": [
        "# Question 1: What is the difference between descriptive statistics and inferential\n",
        "# statistics? Explain with examples.\n",
        "\n",
        "Ans **Descriptive Statistics**:Descriptive Statistics focuses on summarizing and presenting data in a meaningful way. It provides insights into the dataset's central tendencies, variability, and distribution. Common tools include measures like mean, median, mode, range, variance, and standard deviation. Visual aids such as histograms, boxplots, and frequency tables are also used to make data interpretation easier. For example, analyzing test scores of 1,000 students by calculating the average score or creating a histogram to visualize score distribution are applications of descriptive statistics.\n",
        "\n",
        "**Inferential Statistics**: Inferential Statistics on the other hand, uses a sample of data to make predictions or generalizations about a larger population. It relies on probability theory to estimate population parameters, test hypotheses, and identify relationships between variables. Techniques like hypothesis testing, confidence intervals, and regression analysis are commonly employed. For instance, surveying 1,000 individuals to infer the political preferences of an entire country is an example of inferential statistics."
      ],
      "metadata": {
        "id": "Uo3xN4Huo7xS"
      }
    },
    {
      "cell_type": "markdown",
      "source": [
        "# Question 2: What is sampling in statistics? Explain the differences between random\n",
        "# and stratified sampling.\n",
        "\n",
        "Ans: Sampling in statistics is a technique used to analyze large datasets by selecting a representative subset of the population. This method allows researchers to draw conclusions about a larger population without needing to survey the entire group.\n",
        "\n",
        "**Random sampling**: A random sample is used to represent the entire data population. It randomly selects individuals from the population without any other consideration is often used when there's very little information available about the data population. They can be chosen in two ways:\n",
        "1.Through a manual lottery\n",
        "2.Computer-generated sampling.\n",
        "\n",
        "**Stratified sampling**: A stratified random sample first divides the population into smaller groups, or strata, based on shared characteristics.The researchers must ensure that the strata don't overlap, however. Each point in the population must only belong to one stratum, so each point is mutually exclusive. Overlapping strata would increase the likelihood that some data are included, thus skewing the sample.\n",
        "\n"
      ],
      "metadata": {
        "id": "vnLPv5BCsxev"
      }
    },
    {
      "cell_type": "markdown",
      "source": [
        "# Question 3: Define mean, median, and mode. Explain why these measures of central\n",
        "# tendency are important.\n",
        "\n",
        "Ans: **Mean**(Arithmetic Average)\n",
        "The mean is calculated by summing all values in a dataset and dividing by the total number of values.\n",
        "Example: For the dataset 10, 30, 40, 20, 50:\n",
        "Mean = (10 + 30 + 40 + 20 + 50) / 5 = 150 / 5 = 30.\n",
        "\n",
        "**Median** (Middle Value)\n",
        "The median is the middle value when the dataset is sorted. If the dataset has an even number of values, the median is the average of the two middle values.\n",
        "Example: For the dataset 30, 40, 10, 20, 50:\n",
        "Sort: 10, 20, 30, 40, 50.\n",
        "Median = Middle value = 30.\n",
        "For an even dataset 5, 12, 15, 22, 23, 24, 25, 25:\n",
        "Median = [(n/2)th term + (n/2 + 1)th term] / 2 = (22 + 23) / 2 = 22.5.\n",
        "\n",
        "**Mode** (Most Frequent Value)\n",
        "The mode is the value that appears most frequently in a dataset.\n",
        "Example: For the dataset 1, 2, 2, 2, 3, 3, 4, 5:\n",
        "Mode = 2 (appears 3 times).\n",
        "\n",
        "Measures of central tendency are essential in statistics as they provide a central reference point to understand the main characteristics of a dataset. These measures help in identifying patterns, making comparisons, and drawing meaningful conclusions from data.Understanding measures of central tendency allows us to summarize data effectively, interpret survey results, analyze trends, and make informed decisions. By providing a single value that represents the dataset, these measures simplify complex data and make it more manageable, aiding in statistical analysis and decision-making processes.\n",
        "\n"
      ],
      "metadata": {
        "id": "i5JryrgYxgZ9"
      }
    },
    {
      "cell_type": "markdown",
      "source": [
        "# Question 4: Explain skewness and kurtosis. What does a positive skew imply about the\n",
        "# data?\n",
        "Ans: **Skewness**: Skewness in statistics measures the asymmetry of a probability distribution. It shows whether the data leans more toward the left or the right of the mean.\n",
        "**Types of Skewness:**\n",
        "1. Positive Skewness (Right Skew)\n",
        "2. Negative Skewness (Left Skew)\n",
        "3. Zero Skewness\n",
        "**Kurtosis**: Kurtosis in statistics measures the \"tailedness\" of the distribution — how heavy or light the tails are compared to a normal distribution. It provides insights into the likelihood of outliers.\n",
        "**Types of Kurtosis**\n",
        "1. Mesokurtic\n",
        "2. Leptokurtic\n",
        "3. Platykurtic\n",
        "\n",
        "**Positive Skew**: Positive skew, also known as right-skewed, is a type of skewness where the majority of the data points are clustered on the left side of the mean, with a long tail of values extending to the right.In a positively skewed distribution, the mean is typically greater than the median, and the mode is often the lowest value.\n",
        "\n"
      ],
      "metadata": {
        "id": "Eyx4gi9EyJTm"
      }
    },
    {
      "cell_type": "markdown",
      "source": [
        "# Question 5: Implement a Python program to compute the mean, median, and mode of\n",
        "# a given list of numbers. numbers = [12, 15, 12, 18, 19, 12, 20, 22, 19, 19, 24, 24, 24, 26, 28]\n",
        "Ans:"
      ],
      "metadata": {
        "id": "AfcjzZj5M904"
      }
    },
    {
      "cell_type": "code",
      "source": [
        "import statistics\n",
        "\n",
        "def compute_statistics(numbers):\n",
        "    try:\n",
        "        mean_val = statistics.mean(numbers)\n",
        "        median_val = statistics.median(numbers)\n",
        "        mode_val = statistics.mode(numbers)\n",
        "\n",
        "        print(f\"Mean: {mean_val}\")\n",
        "        print(f\"Median: {median_val}\")\n",
        "        print(f\"Mode: {mode_val}\")\n",
        "    except statistics.StatisticsError as e:\n",
        "        print(f\"Statistics error: {e}\")\n",
        "\n",
        "# Example usage\n",
        "data = [12, 15, 12, 18, 19, 12, 20, 22, 19, 19, 24, 24, 24, 26, 28]\n",
        "compute_statistics(data)\n"
      ],
      "metadata": {
        "colab": {
          "base_uri": "https://localhost:8080/"
        },
        "id": "gO3NyBLiRgWa",
        "outputId": "defce2f7-f5eb-4efc-c3b4-3f4737180f69"
      },
      "execution_count": null,
      "outputs": [
        {
          "output_type": "stream",
          "name": "stdout",
          "text": [
            "Mean: 19.6\n",
            "Median: 19\n",
            "Mode: 12\n"
          ]
        }
      ]
    },
    {
      "cell_type": "markdown",
      "source": [
        "#Question 6: Compute the covariance and correlation coefficient between the following two datasets provided as lists in Python:\n",
        "\n",
        "list_x = [10, 20, 30, 40, 50]\n",
        "\n",
        "list_y = [15, 25, 35, 45, 60]"
      ],
      "metadata": {
        "id": "Qf4GBqtA81Jt"
      }
    },
    {
      "cell_type": "code",
      "source": [
        "import statistics\n",
        "import math\n",
        "\n",
        "# Given data\n",
        "list_x = [10, 20, 30, 40, 50]\n",
        "list_y = [15, 25, 35, 45, 60]\n",
        "\n",
        "# Step 1: Compute means\n",
        "mean_x = statistics.mean(list_x)\n",
        "mean_y = statistics.mean(list_y)\n",
        "\n",
        "# Step 2: Compute covariance\n",
        "covariance = sum((x - mean_x) * (y - mean_y) for x, y in zip(list_x, list_y)) / len(list_x)\n",
        "\n",
        "# Step 3: Compute standard deviations\n",
        "std_x = math.sqrt(sum((x - mean_x) ** 2 for x in list_x) / len(list_x))\n",
        "std_y = math.sqrt(sum((y - mean_y) ** 2 for y in list_y) / len(list_y))\n",
        "\n",
        "# Step 4: Compute correlation\n",
        "correlation = covariance / (std_x * std_y)\n",
        "\n",
        "# Output\n",
        "print(f\"Covariance: {covariance}\")\n",
        "print(f\"Correlation Coefficient: {correlation}\")\n"
      ],
      "metadata": {
        "colab": {
          "base_uri": "https://localhost:8080/"
        },
        "id": "yU_jRDJK9FyK",
        "outputId": "4001656f-b6da-4e48-a0b3-287cec9268b1"
      },
      "execution_count": null,
      "outputs": [
        {
          "output_type": "stream",
          "name": "stdout",
          "text": [
            "Covariance: 220.0\n",
            "Correlation Coefficient: 0.9958932064677039\n"
          ]
        }
      ]
    },
    {
      "cell_type": "markdown",
      "source": [
        "# Question 7: Write a Python script to draw a boxplot for the following numeric list and\n",
        "# identify its outliers. Explain the result:\n",
        "#data = [12, 14, 14, 15, 18, 19, 19, 21, 22, 22, 23, 23, 24, 26, 29, 35]\n",
        "Ans:"
      ],
      "metadata": {
        "id": "OGeWf3i3cM_S"
      }
    },
    {
      "cell_type": "code",
      "source": [
        "import matplotlib.pyplot as plt\n",
        "import numpy as np\n",
        "\n",
        "# Given data\n",
        "data = [12, 14, 14, 15, 18, 19, 19, 21, 22, 22, 23, 23, 24, 26, 29, 35]\n",
        "\n",
        "# --- Plotting Boxplot ---\n",
        "plt.boxplot(data, vert=False, patch_artist=True, boxprops=dict(facecolor='lightblue'))\n",
        "plt.title(\"Boxplot of Numeric Data\")\n",
        "plt.xlabel(\"Value\")\n",
        "plt.grid(axis='x', linestyle='--', alpha=0.6)\n",
        "plt.show()\n",
        "\n",
        "# --- Outlier Detection using IQR ---\n",
        "Q1 = np.percentile(data, 25)\n",
        "Q3 = np.percentile(data, 75)\n",
        "IQR = Q3 - Q1\n",
        "\n",
        "lower_bound = Q1 - 1.5 * IQR\n",
        "upper_bound = Q3 + 1.5 * IQR\n",
        "\n",
        "outliers = [x for x in data if x < lower_bound or x > upper_bound]\n",
        "\n",
        "# --- Print Results ---\n",
        "print(f\"Q1 (25th percentile): {Q1}\")\n",
        "print(f\"Q3 (75th percentile): {Q3}\")\n",
        "print(f\"IQR (Q3 - Q1): {IQR}\")\n",
        "print(f\"Lower Bound: {lower_bound}\")\n",
        "print(f\"Upper Bound: {upper_bound}\")\n",
        "print(f\"Outliers: {outliers}\")\n"
      ],
      "metadata": {
        "colab": {
          "base_uri": "https://localhost:8080/",
          "height": 579
        },
        "id": "0ZRKQqQ5cXMl",
        "outputId": "3462257e-c9d6-4231-d3eb-bc6ec8497ba8"
      },
      "execution_count": null,
      "outputs": [
        {
          "output_type": "display_data",
          "data": {
            "text/plain": [
              "<Figure size 640x480 with 1 Axes>"
            ],
            "image/png": "[encoded data removed]"
          },
          "metadata": {}
        },
        {
          "output_type": "stream",
          "name": "stdout",
          "text": [
            "Q1 (25th percentile): 17.25\n",
            "Q3 (75th percentile): 23.25\n",
            "IQR (Q3 - Q1): 6.0\n",
            "Lower Bound: 8.25\n",
            "Upper Bound: 32.25\n",
            "Outliers: [35]\n"
          ]
        }
      ]
    },
    {
      "cell_type": "markdown",
      "source": [
        "Explanation:\n",
        "The boxplot shows:\n",
        "\n",
        "Median (central line)\n",
        "\n",
        "Q1 (25th percentile) and Q3 (75th percentile)\n",
        "\n",
        "Whiskers extend to the data within [Q1 - 1.5×IQR, Q3 + 1.5×IQR]\n",
        "\n",
        "Points outside this range are outliers\n",
        "\n",
        "In this case:\n",
        "\n",
        "The value 35 lies outside the upper bound (33.25)\n",
        "\n",
        "Hence, 35 is an outlier"
      ],
      "metadata": {
        "id": "ZLvFilqp8GwS"
      }
    },
    {
      "cell_type": "markdown",
      "source": [
        "#Question 8: You are working as a data analyst in an e-commerce company. The marketing team wants to know if there is a relationship between advertising spend and daily sales.\n",
        "\n",
        " ● Explain how you would use covariance and correlation to explore this relationship.\n",
        "\n",
        " ● Write Python code to compute the correlation between the two lists:\n",
        "\n",
        " advertising_spend = [200, 250, 300, 400, 500]   \n",
        " daily_sales = [2200, 2450, 2750, 3200, 4000]"
      ],
      "metadata": {
        "id": "9GfuEeo66Lqr"
      }
    },
    {
      "cell_type": "markdown",
      "source": [
        "Ans: Covariance and correlation are both used to understand relationships between variables, but they differ in how they express the strength and direction of that relationship. Covariance indicates the direction of the relationship (whether variables tend to move together or in opposite directions), while correlation standardizes this measure, providing a value between -1 and +1 that also quantifies the strength of the linear relationship"
      ],
      "metadata": {
        "id": "-jwIWrS56sxJ"
      }
    },
    {
      "cell_type": "code",
      "source": [
        "import statistics\n",
        "import math\n",
        "\n",
        "# Data\n",
        "advertising_spend = [200, 250, 300, 400, 500]\n",
        "daily_sales = [2200, 2450, 2750, 3200, 4000]\n",
        "\n",
        "# Means\n",
        "mean_ad = statistics.mean(advertising_spend)\n",
        "mean_sales = statistics.mean(daily_sales)\n",
        "\n",
        "# Covariance\n",
        "covariance = sum((x - mean_ad) * (y - mean_sales) for x, y in zip(advertising_spend, daily_sales)) / len(advertising_spend)\n",
        "\n",
        "# Standard deviations\n",
        "std_ad = math.sqrt(sum((x - mean_ad) ** 2 for x in advertising_spend) / len(advertising_spend))\n",
        "std_sales = math.sqrt(sum((y - mean_sales) ** 2 for y in daily_sales) / len(daily_sales))\n",
        "\n",
        "# Correlation\n",
        "correlation = covariance / (std_ad * std_sales)\n",
        "\n",
        "# Output\n",
        "print(f\"Covariance: {covariance}\")\n",
        "print(f\"Correlation Coefficient: {correlation}\")\n"
      ],
      "metadata": {
        "colab": {
          "base_uri": "https://localhost:8080/"
        },
        "id": "pH0SEjPM6XPT",
        "outputId": "80fb6833-3df2-4e53-c313-f9916cab44d6"
      },
      "execution_count": null,
      "outputs": [
        {
          "output_type": "stream",
          "name": "stdout",
          "text": [
            "Covariance: 67900.0\n",
            "Correlation Coefficient: 0.9935824101653328\n"
          ]
        }
      ]
    },
    {
      "cell_type": "markdown",
      "source": [
        "#Question 9: Your team has collected customer satisfaction survey data on a scale of 1-10 and wants to understand its distribution before launching a new product.\n",
        "\n",
        "● Explain which summary statistics and visualizations (e.g. mean, standard deviation, histogram) you’d use.\n",
        "\n",
        "● Write Python code to create a histogram using Matplotlib for the survey data:\n",
        "\n",
        " survey_scores = [7, 8, 5, 9, 6, 7, 8, 9, 10, 4, 7, 6, 9, 8, 7]"
      ],
      "metadata": {
        "id": "t5OYJdks6_ha"
      }
    },
    {
      "cell_type": "markdown",
      "source": [],
      "metadata": {
        "id": "he8t4OrQ6qaG"
      }
    },
    {
      "cell_type": "markdown",
      "source": [
        "Ans: Summary Statistics to Use:\n",
        "\n",
        "Mean – the average score: gives a central tendency.\n",
        "\n",
        "Median – the middle score: shows the central point, especially useful with skewed data.\n",
        "\n",
        "Mode – the most frequent score: useful if there's a common sentiment.\n",
        "\n",
        "Standard Deviation – measures how spread out the scores are.\n",
        "\n",
        "Min/Max – gives the range of responses.\n",
        "\n",
        "Count – total number of responses for understanding sample size.\n",
        "\n",
        "Visualizations to Use:\n",
        "\n",
        "Histogram – shows the frequency distribution of scores.\n",
        "\n",
        "Box Plot (optional) – visualizes spread, median, and potential outliers.\n",
        "\n",
        "Bar Chart – if you want to count how many responses per exact score (1–10)."
      ],
      "metadata": {
        "id": "nGiBhslj7XYy"
      }
    },
    {
      "cell_type": "code",
      "source": [
        "import matplotlib.pyplot as plt\n",
        "\n",
        "# Survey data\n",
        "survey_scores = [7, 8, 5, 9, 6, 7, 8, 9, 10, 4, 7, 6, 9, 8, 7]\n",
        "\n",
        "# Create histogram\n",
        "plt.hist(survey_scores, bins=range(1, 12), edgecolor='black', align='left')  # range 1-11 gives bins for 1-10\n",
        "plt.title('Customer Satisfaction Survey Scores')\n",
        "plt.xlabel('Satisfaction Score (1–10)')\n",
        "plt.ylabel('Number of Responses')\n",
        "plt.xticks(range(1, 11))  # Show ticks from 1 to 10\n",
        "plt.grid(axis='y', linestyle='--', alpha=0.7)\n",
        "plt.tight_layout()\n",
        "plt.show()\n"
      ],
      "metadata": {
        "colab": {
          "base_uri": "https://localhost:8080/",
          "height": 487
        },
        "id": "_TuI18nG7kHm",
        "outputId": "f18255e2-17b5-4aec-b7c2-6d0703e46162"
      },
      "execution_count": null,
      "outputs": [
        {
          "output_type": "display_data",
          "data": {
            "text/plain": [
              "<Figure size 640x480 with 1 Axes>"
            ],
            "image/png": "[encoded data removed]"
          },
          "metadata": {}
        }
      ]
    }
  ]
}